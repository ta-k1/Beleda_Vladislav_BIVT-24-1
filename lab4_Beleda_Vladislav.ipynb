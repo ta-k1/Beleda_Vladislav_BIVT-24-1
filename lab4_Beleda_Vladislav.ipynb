{
 "cells": [
  {
   "cell_type": "markdown",
   "id": "bc9520d2",
   "metadata": {},
   "source": [
    "# Лабораторная работа №4\n",
    "\n",
    "ФИО: Беледа Владислав Валентинович  \n",
    "Группа: БИВТ-21-4\n",
    "\n",
    "Отправлять можно следующими способами:\n",
    "1. Запушить этот ноутбук в GitHub в репозиторий, где у вас лежат ноутбуки с лабами\n",
    "\n",
    "Deadlines:\n",
    "- Занятие №8 в семестре (Занятие №4 очное)\n",
    "\n",
    "Что необходимо сделать:  \n",
    "- Обучить различные модели глубокого обучения на имеющихся данных  \n",
    "\n",
    "---\n",
    "## Читайте задание внимательно\n",
    "\n",
    "Исходные данные:\n",
    "1. В [табличке](https://docs.google.com/spreadsheets/d/11600OkqdRzxc-xZmFTuBs099VeAqU_GlE0Bx6bBlIRE/edit?usp=sharing) необходимо узнать название своего датасета \n",
    "2. Скачать нужны вам данные можно в [Google Drive](https://drive.google.com/drive/folders/1Phm-Fq1GL-VX7NS-DCEMRh_Fo1wU7DQ9?usp=sharing)\n",
    "  \n",
    "---\n",
    "Теперь по пунктам, что я от вас жду:  \n",
    "1. Загрузить необходимые данные к себе и считать (read) их в переменную.\n",
    "2. Понять, у вас задача классификации (бинарной или многоклассовой) или регрессии.\n",
    "3. Сделать предобработку данных:  \n",
    "     1. Разделить выборку на тренировочную (train) и тестовую (test). _Обратите внимание, что обучать скейлеры и определять, какими значениями вы будете заполнять пропуски, вы будете на train выборке, а применять и на train, и на test_.\n",
    "     2. Проверить пропуски в данных. Если они есть, заполнить одной из стратегий, предложенных в ноутбуке для семинара №3. P.S. Для численных и категориальных переменных будут разные стратегии.\n",
    "     3. Отнормировать численные переменные (`StandardScaler`, `MinMaxScaler`).\n",
    "     4. Закодировать категориальные признаки по одной из стратегий.\n",
    "4. Оформить данные в виде класса `Dataset` из библиотеки `torch` (как мы это делали на семинаре), а затем засунуть в `Dataloader` (тоже делали на семинаре).\n",
    "5. Обучить на тренировочном множестве:\n",
    "     1. Очень простую однослойную нейросеть с оптимизатором `SGD` ([link](https://pytorch.org/docs/stable/optim.html)).\n",
    "     2. Нейросеть посложнее (с 1 скрытым слоем) с оптимизатором `Adam` ([link](https://pytorch.org/docs/stable/optim.html)).\n",
    "     3. Нейросеть еще сложнее (с 3+ скрытыми слоями) с оптимизатором `Adam` ([link](https://pytorch.org/docs/stable/optim.html)).\n",
    "6. Посчитайте loss на train и test множествах, в зависимости от эпохи обучения. Провизуализируйте это с помощью библиотеки `matplotlib` (выйдет так называемая **learning curve**, кривая обучения модели).\n",
    "6. Посчитайте метрики на train и test множествах:\n",
    "     1. Для задачи классификации -- Accuracy\n",
    "     2. Для задачи регрессии -- MAE\n",
    "7. Сравните метрики относительно train/test, так и относительно разных моделей. Ответьте на следующие вопросы:\n",
    "     1. Какая модель справилась лучше с поставленной задачей?\n",
    "     2. Имеет ли место переобучение?\n",
    "     3. Имеет ли место недообучение?\n",
    "     4. Как можно улучшить метрики моделей?\n",
    "\n",
    "---\n",
    "P.S.  \n",
    "Просьба -- делать каждое задание в отдельных ячейках и с отдельными заголовками (как пункт 1 и 2 в этом ноутбуке) типа  \n",
    "- Заголовок\n",
    "- Ячейки с кодом\n",
    "- Другой заголовок\n",
    "- Другие ячейки с кодом\n",
    "\n",
    "P.S.S.  \n",
    "Если вам повезло с многоклассовой классификацией, у вас не будет проблем, просто нужно будет поставить необходимое количество нейронов на выходе вашей нейросети."
   ]
  },
  {
   "cell_type": "markdown",
   "id": "28b51062",
   "metadata": {},
   "source": "# 1. Импорт данных"
  },
  {
   "cell_type": "code",
   "id": "406597a7",
   "metadata": {
    "ExecuteTime": {
     "end_time": "2024-05-28T16:25:56.631822Z",
     "start_time": "2024-05-28T16:25:44.661994Z"
    }
   },
   "source": [
    "from sklearn.model_selection import train_test_split\n",
    "from sklearn.preprocessing import MinMaxScaler\n",
    "import pandas as pd\n",
    "import matplotlib.pyplot as plt\n",
    "import numpy as np\n",
    "import seaborn as sns\n",
    "import torch\n",
    "\n",
    "db = pd.read_csv('https://github.com/ta-k1/Beleda_Vladislav_BIVT-24-1/raw/main/winequality-red.csv')"
   ],
   "outputs": [],
   "execution_count": 1
  },
  {
   "cell_type": "markdown",
   "id": "0d119028",
   "metadata": {},
   "source": "# 2. Тип задачи"
  },
  {
   "cell_type": "code",
   "id": "d92464d0",
   "metadata": {
    "ExecuteTime": {
     "end_time": "2024-05-28T16:25:56.681488Z",
     "start_time": "2024-05-28T16:25:56.634840Z"
    }
   },
   "source": "db.head()",
   "outputs": [
    {
     "data": {
      "text/plain": [
       "   fixed acidity  volatile acidity  citric acid  residual sugar  chlorides  \\\n",
       "0            7.4              0.70         0.00             1.9      0.076   \n",
       "1            7.8              0.88         0.00             2.6      0.098   \n",
       "2            7.8              0.76         0.04             2.3      0.092   \n",
       "3           11.2              0.28         0.56             1.9      0.075   \n",
       "4            7.4              0.70         0.00             1.9      0.076   \n",
       "\n",
       "   free sulfur dioxide  total sulfur dioxide  density    pH  sulphates  \\\n",
       "0                 11.0                  34.0   0.9978  3.51       0.56   \n",
       "1                 25.0                  67.0   0.9968  3.20       0.68   \n",
       "2                 15.0                  54.0   0.9970  3.26       0.65   \n",
       "3                 17.0                  60.0   0.9980  3.16       0.58   \n",
       "4                 11.0                  34.0   0.9978  3.51       0.56   \n",
       "\n",
       "   alcohol  quality  \n",
       "0      9.4        5  \n",
       "1      9.8        5  \n",
       "2      9.8        5  \n",
       "3      9.8        6  \n",
       "4      9.4        5  "
      ],
      "text/html": [
       "<div>\n",
       "<style scoped>\n",
       "    .dataframe tbody tr th:only-of-type {\n",
       "        vertical-align: middle;\n",
       "    }\n",
       "\n",
       "    .dataframe tbody tr th {\n",
       "        vertical-align: top;\n",
       "    }\n",
       "\n",
       "    .dataframe thead th {\n",
       "        text-align: right;\n",
       "    }\n",
       "</style>\n",
       "<table border=\"1\" class=\"dataframe\">\n",
       "  <thead>\n",
       "    <tr style=\"text-align: right;\">\n",
       "      <th></th>\n",
       "      <th>fixed acidity</th>\n",
       "      <th>volatile acidity</th>\n",
       "      <th>citric acid</th>\n",
       "      <th>residual sugar</th>\n",
       "      <th>chlorides</th>\n",
       "      <th>free sulfur dioxide</th>\n",
       "      <th>total sulfur dioxide</th>\n",
       "      <th>density</th>\n",
       "      <th>pH</th>\n",
       "      <th>sulphates</th>\n",
       "      <th>alcohol</th>\n",
       "      <th>quality</th>\n",
       "    </tr>\n",
       "  </thead>\n",
       "  <tbody>\n",
       "    <tr>\n",
       "      <th>0</th>\n",
       "      <td>7.4</td>\n",
       "      <td>0.70</td>\n",
       "      <td>0.00</td>\n",
       "      <td>1.9</td>\n",
       "      <td>0.076</td>\n",
       "      <td>11.0</td>\n",
       "      <td>34.0</td>\n",
       "      <td>0.9978</td>\n",
       "      <td>3.51</td>\n",
       "      <td>0.56</td>\n",
       "      <td>9.4</td>\n",
       "      <td>5</td>\n",
       "    </tr>\n",
       "    <tr>\n",
       "      <th>1</th>\n",
       "      <td>7.8</td>\n",
       "      <td>0.88</td>\n",
       "      <td>0.00</td>\n",
       "      <td>2.6</td>\n",
       "      <td>0.098</td>\n",
       "      <td>25.0</td>\n",
       "      <td>67.0</td>\n",
       "      <td>0.9968</td>\n",
       "      <td>3.20</td>\n",
       "      <td>0.68</td>\n",
       "      <td>9.8</td>\n",
       "      <td>5</td>\n",
       "    </tr>\n",
       "    <tr>\n",
       "      <th>2</th>\n",
       "      <td>7.8</td>\n",
       "      <td>0.76</td>\n",
       "      <td>0.04</td>\n",
       "      <td>2.3</td>\n",
       "      <td>0.092</td>\n",
       "      <td>15.0</td>\n",
       "      <td>54.0</td>\n",
       "      <td>0.9970</td>\n",
       "      <td>3.26</td>\n",
       "      <td>0.65</td>\n",
       "      <td>9.8</td>\n",
       "      <td>5</td>\n",
       "    </tr>\n",
       "    <tr>\n",
       "      <th>3</th>\n",
       "      <td>11.2</td>\n",
       "      <td>0.28</td>\n",
       "      <td>0.56</td>\n",
       "      <td>1.9</td>\n",
       "      <td>0.075</td>\n",
       "      <td>17.0</td>\n",
       "      <td>60.0</td>\n",
       "      <td>0.9980</td>\n",
       "      <td>3.16</td>\n",
       "      <td>0.58</td>\n",
       "      <td>9.8</td>\n",
       "      <td>6</td>\n",
       "    </tr>\n",
       "    <tr>\n",
       "      <th>4</th>\n",
       "      <td>7.4</td>\n",
       "      <td>0.70</td>\n",
       "      <td>0.00</td>\n",
       "      <td>1.9</td>\n",
       "      <td>0.076</td>\n",
       "      <td>11.0</td>\n",
       "      <td>34.0</td>\n",
       "      <td>0.9978</td>\n",
       "      <td>3.51</td>\n",
       "      <td>0.56</td>\n",
       "      <td>9.4</td>\n",
       "      <td>5</td>\n",
       "    </tr>\n",
       "  </tbody>\n",
       "</table>\n",
       "</div>"
      ]
     },
     "execution_count": 2,
     "metadata": {},
     "output_type": "execute_result"
    }
   ],
   "execution_count": 2
  },
  {
   "metadata": {
    "ExecuteTime": {
     "end_time": "2024-05-28T16:25:57.466843Z",
     "start_time": "2024-05-28T16:25:56.683959Z"
    }
   },
   "cell_type": "code",
   "source": [
    "palette = sns.color_palette('deep') \n",
    "sns.histplot(data=db, x='quality', bins=6)\n",
    "plt.title(\"Quality Distribution\")"
   ],
   "id": "addfe4882ae634c6",
   "outputs": [
    {
     "data": {
      "text/plain": [
       "Text(0.5, 1.0, 'Quality Distribution')"
      ]
     },
     "execution_count": 3,
     "metadata": {},
     "output_type": "execute_result"
    },
    {
     "data": {
      "text/plain": [
       "<Figure size 640x480 with 1 Axes>"
      ],
      "image/png": "[encoded data removed]"
     },
     "metadata": {},
     "output_type": "display_data"
    }
   ],
   "execution_count": 3
  },
  {
   "cell_type": "markdown",
   "id": "34931f43",
   "metadata": {},
   "source": [
    "## 3. Делаем предобработку данных"
   ]
  },
  {
   "metadata": {
    "ExecuteTime": {
     "end_time": "2024-05-28T16:25:57.482119Z",
     "start_time": "2024-05-28T16:25:57.471369Z"
    }
   },
   "cell_type": "code",
   "source": "## Логарифмирование",
   "id": "3d6d7b89f5070009",
   "outputs": [],
   "execution_count": 4
  },
  {
   "cell_type": "code",
   "id": "67a611d0",
   "metadata": {
    "ExecuteTime": {
     "end_time": "2024-05-28T16:25:58.058267Z",
     "start_time": "2024-05-28T16:25:57.486144Z"
    }
   },
   "source": [
    "db['quality'] = np.log(db['quality'])\n",
    "sns.histplot(data=db, x='quality', bins=6)\n",
    "plt.title(\"Quality Distribution\")\n",
    "plt.show()"
   ],
   "outputs": [
    {
     "data": {
      "text/plain": [
       "<Figure size 640x480 with 1 Axes>"
      ],
      "image/png": "[encoded data removed]"
     },
     "metadata": {},
     "output_type": "display_data"
    }
   ],
   "execution_count": 5
  },
  {
   "metadata": {
    "ExecuteTime": {
     "end_time": "2024-05-28T16:25:58.117164Z",
     "start_time": "2024-05-28T16:25:58.061788Z"
    }
   },
   "cell_type": "code",
   "source": "db",
   "id": "6b1503a0434e1a5",
   "outputs": [
    {
     "data": {
      "text/plain": [
       "      fixed acidity  volatile acidity  citric acid  residual sugar  chlorides  \\\n",
       "0               7.4             0.700         0.00             1.9      0.076   \n",
       "1               7.8             0.880         0.00             2.6      0.098   \n",
       "2               7.8             0.760         0.04             2.3      0.092   \n",
       "3              11.2             0.280         0.56             1.9      0.075   \n",
       "4               7.4             0.700         0.00             1.9      0.076   \n",
       "...             ...               ...          ...             ...        ...   \n",
       "1594            6.2             0.600         0.08             2.0      0.090   \n",
       "1595            5.9             0.550         0.10             2.2      0.062   \n",
       "1596            6.3             0.510         0.13             2.3      0.076   \n",
       "1597            5.9             0.645         0.12             2.0      0.075   \n",
       "1598            6.0             0.310         0.47             3.6      0.067   \n",
       "\n",
       "      free sulfur dioxide  total sulfur dioxide  density    pH  sulphates  \\\n",
       "0                    11.0                  34.0  0.99780  3.51       0.56   \n",
       "1                    25.0                  67.0  0.99680  3.20       0.68   \n",
       "2                    15.0                  54.0  0.99700  3.26       0.65   \n",
       "3                    17.0                  60.0  0.99800  3.16       0.58   \n",
       "4                    11.0                  34.0  0.99780  3.51       0.56   \n",
       "...                   ...                   ...      ...   ...        ...   \n",
       "1594                 32.0                  44.0  0.99490  3.45       0.58   \n",
       "1595                 39.0                  51.0  0.99512  3.52       0.76   \n",
       "1596                 29.0                  40.0  0.99574  3.42       0.75   \n",
       "1597                 32.0                  44.0  0.99547  3.57       0.71   \n",
       "1598                 18.0                  42.0  0.99549  3.39       0.66   \n",
       "\n",
       "      alcohol   quality  \n",
       "0         9.4  1.609438  \n",
       "1         9.8  1.609438  \n",
       "2         9.8  1.609438  \n",
       "3         9.8  1.791759  \n",
       "4         9.4  1.609438  \n",
       "...       ...       ...  \n",
       "1594     10.5  1.609438  \n",
       "1595     11.2  1.791759  \n",
       "1596     11.0  1.791759  \n",
       "1597     10.2  1.609438  \n",
       "1598     11.0  1.791759  \n",
       "\n",
       "[1599 rows x 12 columns]"
      ],
      "text/html": [
       "<div>\n",
       "<style scoped>\n",
       "    .dataframe tbody tr th:only-of-type {\n",
       "        vertical-align: middle;\n",
       "    }\n",
       "\n",
       "    .dataframe tbody tr th {\n",
       "        vertical-align: top;\n",
       "    }\n",
       "\n",
       "    .dataframe thead th {\n",
       "        text-align: right;\n",
       "    }\n",
       "</style>\n",
       "<table border=\"1\" class=\"dataframe\">\n",
       "  <thead>\n",
       "    <tr style=\"text-align: right;\">\n",
       "      <th></th>\n",
       "      <th>fixed acidity</th>\n",
       "      <th>volatile acidity</th>\n",
       "      <th>citric acid</th>\n",
       "      <th>residual sugar</th>\n",
       "      <th>chlorides</th>\n",
       "      <th>free sulfur dioxide</th>\n",
       "      <th>total sulfur dioxide</th>\n",
       "      <th>density</th>\n",
       "      <th>pH</th>\n",
       "      <th>sulphates</th>\n",
       "      <th>alcohol</th>\n",
       "      <th>quality</th>\n",
       "    </tr>\n",
       "  </thead>\n",
       "  <tbody>\n",
       "    <tr>\n",
       "      <th>0</th>\n",
       "      <td>7.4</td>\n",
       "      <td>0.700</td>\n",
       "      <td>0.00</td>\n",
       "      <td>1.9</td>\n",
       "      <td>0.076</td>\n",
       "      <td>11.0</td>\n",
       "      <td>34.0</td>\n",
       "      <td>0.99780</td>\n",
       "      <td>3.51</td>\n",
       "      <td>0.56</td>\n",
       "      <td>9.4</td>\n",
       "      <td>1.609438</td>\n",
       "    </tr>\n",
       "    <tr>\n",
       "      <th>1</th>\n",
       "      <td>7.8</td>\n",
       "      <td>0.880</td>\n",
       "      <td>0.00</td>\n",
       "      <td>2.6</td>\n",
       "      <td>0.098</td>\n",
       "      <td>25.0</td>\n",
       "      <td>67.0</td>\n",
       "      <td>0.99680</td>\n",
       "      <td>3.20</td>\n",
       "      <td>0.68</td>\n",
       "      <td>9.8</td>\n",
       "      <td>1.609438</td>\n",
       "    </tr>\n",
       "    <tr>\n",
       "      <th>2</th>\n",
       "      <td>7.8</td>\n",
       "      <td>0.760</td>\n",
       "      <td>0.04</td>\n",
       "      <td>2.3</td>\n",
       "      <td>0.092</td>\n",
       "      <td>15.0</td>\n",
       "      <td>54.0</td>\n",
       "      <td>0.99700</td>\n",
       "      <td>3.26</td>\n",
       "      <td>0.65</td>\n",
       "      <td>9.8</td>\n",
       "      <td>1.609438</td>\n",
       "    </tr>\n",
       "    <tr>\n",
       "      <th>3</th>\n",
       "      <td>11.2</td>\n",
       "      <td>0.280</td>\n",
       "      <td>0.56</td>\n",
       "      <td>1.9</td>\n",
       "      <td>0.075</td>\n",
       "      <td>17.0</td>\n",
       "      <td>60.0</td>\n",
       "      <td>0.99800</td>\n",
       "      <td>3.16</td>\n",
       "      <td>0.58</td>\n",
       "      <td>9.8</td>\n",
       "      <td>1.791759</td>\n",
       "    </tr>\n",
       "    <tr>\n",
       "      <th>4</th>\n",
       "      <td>7.4</td>\n",
       "      <td>0.700</td>\n",
       "      <td>0.00</td>\n",
       "      <td>1.9</td>\n",
       "      <td>0.076</td>\n",
       "      <td>11.0</td>\n",
       "      <td>34.0</td>\n",
       "      <td>0.99780</td>\n",
       "      <td>3.51</td>\n",
       "      <td>0.56</td>\n",
       "      <td>9.4</td>\n",
       "      <td>1.609438</td>\n",
       "    </tr>\n",
       "    <tr>\n",
       "      <th>...</th>\n",
       "      <td>...</td>\n",
       "      <td>...</td>\n",
       "      <td>...</td>\n",
       "      <td>...</td>\n",
       "      <td>...</td>\n",
       "      <td>...</td>\n",
       "      <td>...</td>\n",
       "      <td>...</td>\n",
       "      <td>...</td>\n",
       "      <td>...</td>\n",
       "      <td>...</td>\n",
       "      <td>...</td>\n",
       "    </tr>\n",
       "    <tr>\n",
       "      <th>1594</th>\n",
       "      <td>6.2</td>\n",
       "      <td>0.600</td>\n",
       "      <td>0.08</td>\n",
       "      <td>2.0</td>\n",
       "      <td>0.090</td>\n",
       "      <td>32.0</td>\n",
       "      <td>44.0</td>\n",
       "      <td>0.99490</td>\n",
       "      <td>3.45</td>\n",
       "      <td>0.58</td>\n",
       "      <td>10.5</td>\n",
       "      <td>1.609438</td>\n",
       "    </tr>\n",
       "    <tr>\n",
       "      <th>1595</th>\n",
       "      <td>5.9</td>\n",
       "      <td>0.550</td>\n",
       "      <td>0.10</td>\n",
       "      <td>2.2</td>\n",
       "      <td>0.062</td>\n",
       "      <td>39.0</td>\n",
       "      <td>51.0</td>\n",
       "      <td>0.99512</td>\n",
       "      <td>3.52</td>\n",
       "      <td>0.76</td>\n",
       "      <td>11.2</td>\n",
       "      <td>1.791759</td>\n",
       "    </tr>\n",
       "    <tr>\n",
       "      <th>1596</th>\n",
       "      <td>6.3</td>\n",
       "      <td>0.510</td>\n",
       "      <td>0.13</td>\n",
       "      <td>2.3</td>\n",
       "      <td>0.076</td>\n",
       "      <td>29.0</td>\n",
       "      <td>40.0</td>\n",
       "      <td>0.99574</td>\n",
       "      <td>3.42</td>\n",
       "      <td>0.75</td>\n",
       "      <td>11.0</td>\n",
       "      <td>1.791759</td>\n",
       "    </tr>\n",
       "    <tr>\n",
       "      <th>1597</th>\n",
       "      <td>5.9</td>\n",
       "      <td>0.645</td>\n",
       "      <td>0.12</td>\n",
       "      <td>2.0</td>\n",
       "      <td>0.075</td>\n",
       "      <td>32.0</td>\n",
       "      <td>44.0</td>\n",
       "      <td>0.99547</td>\n",
       "      <td>3.57</td>\n",
       "      <td>0.71</td>\n",
       "      <td>10.2</td>\n",
       "      <td>1.609438</td>\n",
       "    </tr>\n",
       "    <tr>\n",
       "      <th>1598</th>\n",
       "      <td>6.0</td>\n",
       "      <td>0.310</td>\n",
       "      <td>0.47</td>\n",
       "      <td>3.6</td>\n",
       "      <td>0.067</td>\n",
       "      <td>18.0</td>\n",
       "      <td>42.0</td>\n",
       "      <td>0.99549</td>\n",
       "      <td>3.39</td>\n",
       "      <td>0.66</td>\n",
       "      <td>11.0</td>\n",
       "      <td>1.791759</td>\n",
       "    </tr>\n",
       "  </tbody>\n",
       "</table>\n",
       "<p>1599 rows × 12 columns</p>\n",
       "</div>"
      ]
     },
     "execution_count": 6,
     "metadata": {},
     "output_type": "execute_result"
    }
   ],
   "execution_count": 6
  },
  {
   "metadata": {},
   "cell_type": "markdown",
   "source": "## Проверка и ликвидация пропусков",
   "id": "67b52a8b7d5a353f"
  },
  {
   "metadata": {
    "ExecuteTime": {
     "end_time": "2024-05-28T16:25:58.137305Z",
     "start_time": "2024-05-28T16:25:58.120179Z"
    }
   },
   "cell_type": "code",
   "source": "db.isnull().sum()",
   "id": "5964fc5567fa9e2c",
   "outputs": [
    {
     "data": {
      "text/plain": [
       "fixed acidity           0\n",
       "volatile acidity        0\n",
       "citric acid             0\n",
       "residual sugar          0\n",
       "chlorides               0\n",
       "free sulfur dioxide     0\n",
       "total sulfur dioxide    0\n",
       "density                 0\n",
       "pH                      0\n",
       "sulphates               0\n",
       "alcohol                 0\n",
       "quality                 0\n",
       "dtype: int64"
      ]
     },
     "execution_count": 7,
     "metadata": {},
     "output_type": "execute_result"
    }
   ],
   "execution_count": 7
  },
  {
   "metadata": {},
   "cell_type": "markdown",
   "source": "Пропусков нет",
   "id": "2f289101462121bc"
  },
  {
   "metadata": {},
   "cell_type": "markdown",
   "source": "## Кодирование категориальных данных",
   "id": "6431ce0f7d421c04"
  },
  {
   "metadata": {
    "ExecuteTime": {
     "end_time": "2024-05-28T16:25:58.171983Z",
     "start_time": "2024-05-28T16:25:58.140328Z"
    }
   },
   "cell_type": "code",
   "source": [
    "from sklearn.preprocessing import LabelEncoder\n",
    "\n",
    "db['fixed acidity'] = LabelEncoder().fit_transform(db['fixed acidity']) \n",
    "db['volatile acidity'] = LabelEncoder().fit_transform(db['volatile acidity']) \n",
    "db['citric acid'] = LabelEncoder().fit_transform(db['citric acid']) \n",
    "db['residual sugar'] = LabelEncoder().fit_transform(db['residual sugar']) \n",
    "db['chlorides'] = LabelEncoder().fit_transform(db['chlorides']) \n",
    "db['free sulfur dioxide'] = LabelEncoder().fit_transform(db['free sulfur dioxide']) \n",
    "db['total sulfur dioxide'] = LabelEncoder().fit_transform(db['total sulfur dioxide']) \n",
    "db['density'] = LabelEncoder().fit_transform(db['density']) \n",
    "db['pH'] = LabelEncoder().fit_transform(db['pH']) \n",
    "db['sulphates'] = LabelEncoder().fit_transform(db['sulphates']) \n",
    "db['alcohol'] = LabelEncoder().fit_transform(db['alcohol'])"
   ],
   "id": "a57d9b09d819e3b1",
   "outputs": [],
   "execution_count": 8
  },
  {
   "metadata": {},
   "cell_type": "markdown",
   "source": "## Разделение выборки на тренировочную и тестовую",
   "id": "1b54647e535162b7"
  },
  {
   "metadata": {
    "ExecuteTime": {
     "end_time": "2024-05-28T16:25:58.188812Z",
     "start_time": "2024-05-28T16:25:58.174994Z"
    }
   },
   "cell_type": "code",
   "source": [
    "X = db.drop(['quality'], axis=1)\n",
    "y = db['quality']\n",
    "\n",
    "X_train, X_test, y_train, y_test = train_test_split(X, y, test_size = 0.2)"
   ],
   "id": "4336d23d95fd73f3",
   "outputs": [],
   "execution_count": 9
  },
  {
   "metadata": {
    "ExecuteTime": {
     "end_time": "2024-05-28T16:25:58.208270Z",
     "start_time": "2024-05-28T16:25:58.198356Z"
    }
   },
   "cell_type": "code",
   "source": [
    "print(\"X_train shape:\", X_train.shape)\n",
    "print(\"X_test shape:\", X_test.shape)\n",
    "print(\"y_train shape:\", y_train.shape)\n",
    "print(\"y_test shape:\", y_test.shape)"
   ],
   "id": "af643d2a1bcb85f1",
   "outputs": [
    {
     "name": "stdout",
     "output_type": "stream",
     "text": [
      "X_train shape: (1279, 11)\n",
      "X_test shape: (320, 11)\n",
      "y_train shape: (1279,)\n",
      "y_test shape: (320,)\n"
     ]
    }
   ],
   "execution_count": 10
  },
  {
   "metadata": {},
   "cell_type": "markdown",
   "source": "## Нормирование численных переменных",
   "id": "8c5ea1cd44e7ef9c"
  },
  {
   "metadata": {
    "ExecuteTime": {
     "end_time": "2024-05-28T16:25:58.235114Z",
     "start_time": "2024-05-28T16:25:58.211798Z"
    }
   },
   "cell_type": "code",
   "source": [
    "from sklearn.preprocessing import MinMaxScaler\n",
    "\n",
    "scaler = MinMaxScaler()\n",
    "\n",
    "X_train = scaler.fit_transform(X_train)\n",
    "X_test = scaler.transform(X_test)"
   ],
   "id": "30319dd000e14bd5",
   "outputs": [],
   "execution_count": 11
  },
  {
   "metadata": {
    "ExecuteTime": {
     "end_time": "2024-05-28T16:25:58.252450Z",
     "start_time": "2024-05-28T16:25:58.237656Z"
    }
   },
   "cell_type": "code",
   "source": [
    "X_train_df = pd.DataFrame(X_train)\n",
    "y_train_df = pd.DataFrame(y_train)\n",
    "X_test_df = pd.DataFrame(X_test)\n",
    "y_test_df = pd.DataFrame(y_test)"
   ],
   "id": "dedda1a7e20848a2",
   "outputs": [],
   "execution_count": 12
  },
  {
   "metadata": {},
   "cell_type": "markdown",
   "source": "# 4. Класс Datasets",
   "id": "138be74e0d6b5b9c"
  },
  {
   "metadata": {
    "ExecuteTime": {
     "end_time": "2024-05-28T16:26:04.139449Z",
     "start_time": "2024-05-28T16:25:58.255473Z"
    }
   },
   "cell_type": "code",
   "source": [
    "import torch\n",
    "from torch.utils.data import Dataset, DataLoader\n",
    "import matplotlib.pyplot as plt\n",
    "from sklearn.model_selection import train_test_split\n",
    "from torchvision.transforms import ToTensor, Normalize, Lambda\n",
    "import copy\n",
    "import datetime as dt\n",
    "import pandas as pd\n",
    "import numpy as np"
   ],
   "id": "fe8fc88002b8f3f6",
   "outputs": [],
   "execution_count": 13
  },
  {
   "metadata": {
    "ExecuteTime": {
     "end_time": "2024-05-28T16:26:04.155127Z",
     "start_time": "2024-05-28T16:26:04.142982Z"
    }
   },
   "cell_type": "code",
   "source": [
    "class CustomDataset(Dataset):\n",
    "    def __init__(self, data, targets):\n",
    "        self.data = data.select_dtypes(include=[np.number])\n",
    "        self.targets = targets\n",
    "\n",
    "    def __len__(self):\n",
    "        return len(self.data)\n",
    "\n",
    "    def __getitem__(self, index):\n",
    "        x = torch.tensor(self.data.iloc[index], dtype=torch.float32)\n",
    "        y = torch.tensor(self.targets.iloc[index], dtype=torch.float32)\n",
    "\n",
    "        return x, y"
   ],
   "id": "773bee4dc0f7afb0",
   "outputs": [],
   "execution_count": 14
  },
  {
   "metadata": {
    "ExecuteTime": {
     "end_time": "2024-05-28T16:26:04.168481Z",
     "start_time": "2024-05-28T16:26:04.158137Z"
    }
   },
   "cell_type": "code",
   "source": [
    "train_dataset = CustomDataset(X_train_df, y_train_df)\n",
    "test_dataset = CustomDataset(X_test_df, y_test_df)"
   ],
   "id": "2777c3dd31304e83",
   "outputs": [],
   "execution_count": 15
  },
  {
   "metadata": {
    "ExecuteTime": {
     "end_time": "2024-05-28T16:26:04.182767Z",
     "start_time": "2024-05-28T16:26:04.171494Z"
    }
   },
   "cell_type": "code",
   "source": [
    "train_loader = DataLoader(train_dataset, batch_size=64, shuffle=True)\n",
    "test_loader = DataLoader(test_dataset, batch_size=64, shuffle=False)"
   ],
   "id": "74cfe71362cedbec",
   "outputs": [],
   "execution_count": 16
  },
  {
   "metadata": {
    "ExecuteTime": {
     "end_time": "2024-05-28T16:26:04.276392Z",
     "start_time": "2024-05-28T16:26:04.185780Z"
    }
   },
   "cell_type": "code",
   "source": [
    "for xb, yb in train_loader:\n",
    "    print(\"inputs:\", xb)\n",
    "    print(\"targets:\", yb)\n",
    "    break"
   ],
   "id": "bec0ce8289b8aa01",
   "outputs": [
    {
     "name": "stdout",
     "output_type": "stream",
     "text": [
      "inputs: tensor([[0.2872, 0.3803, 0.1039, 0.5222, 0.3224, 0.1017, 0.1608, 0.7390, 0.5632,\n",
      "         0.1277, 0.0635],\n",
      "        [0.1702, 0.1901, 0.1039, 0.0778, 0.1908, 0.0339, 0.0979, 0.3626, 0.5172,\n",
      "         0.2128, 0.1746],\n",
      "        [0.5426, 0.2958, 0.2468, 0.3444, 0.2895, 0.1356, 0.1678, 0.8591, 0.3908,\n",
      "         0.2128, 0.4127],\n",
      "        [0.3617, 0.7746, 0.0000, 0.1667, 0.3092, 0.1695, 0.1748, 0.5843, 0.4138,\n",
      "         0.1277, 0.2698],\n",
      "        [0.2553, 0.3803, 0.0130, 0.1889, 0.2829, 0.4576, 0.2587, 0.3834, 0.6092,\n",
      "         0.2128, 0.4603],\n",
      "        [0.5532, 0.0634, 0.5974, 0.0778, 0.1645, 0.4407, 0.2517, 0.4596, 0.3333,\n",
      "         0.4787, 0.4444],\n",
      "        [0.6170, 0.0563, 0.5455, 0.1000, 0.2632, 0.1017, 0.1119, 0.7667, 0.3678,\n",
      "         0.7128, 0.4921],\n",
      "        [0.1277, 0.3310, 0.1299, 0.1667, 0.1645, 0.6780, 0.3147, 0.3118, 0.7241,\n",
      "         0.4043, 0.5714],\n",
      "        [0.4255, 0.2254, 0.5844, 0.2111, 0.2303, 0.5424, 0.3706, 0.5058, 0.5057,\n",
      "         0.4149, 0.7143],\n",
      "        [0.2553, 0.2535, 0.1818, 0.2778, 0.2566, 0.2542, 0.2168, 0.5196, 0.5402,\n",
      "         0.1170, 0.4603],\n",
      "        [0.0745, 0.7254, 0.1039, 0.0111, 0.0592, 0.2203, 0.6154, 0.0416, 0.7816,\n",
      "         0.5000, 0.8730],\n",
      "        [0.4894, 0.1338, 0.7403, 0.1222, 0.2434, 0.4576, 0.4126, 0.6443, 0.4483,\n",
      "         0.4362, 0.4603],\n",
      "        [0.4681, 0.6197, 0.8831, 0.0778, 0.9605, 0.3051, 0.4056, 0.5774, 0.0460,\n",
      "         0.9149, 0.0952],\n",
      "        [0.5213, 0.2113, 0.4805, 0.1889, 0.3553, 0.1695, 0.1189, 0.8014, 0.4023,\n",
      "         0.1915, 0.4127],\n",
      "        [0.2021, 0.7324, 0.0390, 0.1889, 0.1447, 0.5424, 0.2937, 0.3256, 0.7241,\n",
      "         0.1915, 0.7619],\n",
      "        [0.0957, 0.4014, 0.0649, 0.2111, 0.2368, 0.3220, 0.1329, 0.0508, 0.7701,\n",
      "         0.1809, 0.8571],\n",
      "        [0.8404, 0.1901, 0.6364, 0.2222, 0.2829, 0.1356, 0.0979, 0.9122, 0.2069,\n",
      "         0.4681, 0.3810],\n",
      "        [0.3723, 0.8944, 0.1169, 0.1889, 0.1842, 0.1186, 0.2168, 0.6351, 0.4943,\n",
      "         0.1809, 0.0635],\n",
      "        [0.2340, 0.1620, 0.3247, 0.2111, 0.4013, 0.0678, 0.0699, 0.5520, 0.5977,\n",
      "         0.2340, 0.3492],\n",
      "        [0.7660, 0.3521, 0.6494, 0.2444, 0.2961, 0.1017, 0.1818, 0.9746, 0.2644,\n",
      "         0.4255, 0.4603],\n",
      "        [0.2234, 0.4930, 0.1948, 0.1000, 0.5329, 0.2203, 0.0979, 0.3626, 0.6092,\n",
      "         0.3085, 0.5873],\n",
      "        [0.3298, 0.3803, 0.2338, 0.1889, 0.2566, 0.2881, 0.3357, 0.7552, 0.6207,\n",
      "         0.2234, 0.3175],\n",
      "        [0.1277, 0.0211, 0.2727, 0.0778, 0.0526, 0.9492, 0.8671, 0.1016, 0.4943,\n",
      "         0.0638, 0.1905],\n",
      "        [0.2553, 0.2746, 0.3636, 0.2778, 0.2039, 0.1017, 0.0699, 0.6282, 0.4023,\n",
      "         0.1596, 0.3810],\n",
      "        [0.6064, 0.0563, 0.6364, 0.1000, 0.2500, 0.1017, 0.0979, 0.7806, 0.3333,\n",
      "         0.7234, 0.5238],\n",
      "        [0.2872, 0.2113, 0.3117, 0.1000, 0.1908, 0.3051, 0.2867, 0.4042, 0.5517,\n",
      "         0.2553, 0.3968],\n",
      "        [0.4149, 0.3028, 0.4935, 0.0444, 0.3882, 0.0678, 0.0839, 0.6005, 0.3563,\n",
      "         0.1489, 0.1746],\n",
      "        [0.3191, 0.8732, 0.1299, 0.1444, 0.4934, 0.1864, 0.1119, 0.5312, 0.4253,\n",
      "         0.1277, 0.1905],\n",
      "        [0.4468, 0.1197, 0.4675, 0.2444, 0.1250, 0.1695, 0.2308, 0.4065, 0.5862,\n",
      "         0.3298, 0.6667],\n",
      "        [0.3298, 0.3944, 0.1818, 0.2111, 0.3224, 0.0339, 0.0629, 0.7552, 0.6092,\n",
      "         0.2340, 0.4921],\n",
      "        [0.7234, 0.0141, 0.6623, 0.4667, 0.4408, 0.0508, 0.1189, 0.9330, 0.4483,\n",
      "         0.6277, 0.3492],\n",
      "        [0.3617, 0.3239, 0.2338, 0.1111, 0.2829, 0.2203, 0.2028, 0.6998, 0.4713,\n",
      "         0.2234, 0.0635],\n",
      "        [0.3511, 0.1901, 0.3896, 0.1111, 0.2434, 0.5424, 0.5524, 0.6928, 0.5747,\n",
      "         0.2447, 0.0635],\n",
      "        [0.4681, 0.0423, 0.3117, 0.1444, 0.2697, 0.0000, 0.1538, 0.8984, 0.5977,\n",
      "         0.5213, 0.3810],\n",
      "        [0.1383, 0.3169, 0.0779, 0.1000, 0.0855, 0.6610, 0.5874, 0.0393, 0.4713,\n",
      "         0.1277, 0.4286],\n",
      "        [0.5532, 0.1549, 0.5325, 0.1889, 0.3026, 0.1864, 0.3846, 0.8383, 0.3678,\n",
      "         0.1277, 0.1905],\n",
      "        [0.3936, 0.4648, 0.7792, 0.1444, 0.4934, 0.2034, 0.5944, 0.7206, 0.3563,\n",
      "         0.1489, 0.1111],\n",
      "        [0.3404, 0.1549, 0.2727, 0.1111, 0.2368, 0.7966, 0.6713, 0.5520, 0.4368,\n",
      "         0.2128, 0.1905],\n",
      "        [0.3723, 0.3380, 0.2987, 0.3667, 0.2697, 0.2373, 0.6853, 0.7667, 0.4483,\n",
      "         0.2553, 0.1746],\n",
      "        [0.7021, 0.1761, 0.6494, 0.1000, 0.3487, 0.3390, 0.2867, 0.7275, 0.2989,\n",
      "         0.2021, 0.4127],\n",
      "        [0.0532, 0.1479, 0.0000, 0.1000, 0.0855, 0.4576, 0.3986, 0.0208, 0.8851,\n",
      "         0.4362, 1.0000],\n",
      "        [0.5957, 0.2324, 0.5714, 0.2111, 0.7961, 0.0678, 0.0420, 0.9284, 0.3448,\n",
      "         0.2660, 0.1905],\n",
      "        [0.5851, 0.0563, 0.6364, 0.2111, 0.2500, 0.1695, 0.1538, 0.7898, 0.2874,\n",
      "         0.2447, 0.3968],\n",
      "        [0.4043, 0.2817, 0.1429, 0.1889, 0.3092, 0.1525, 0.4266, 0.6259, 0.3218,\n",
      "         0.1596, 0.1746],\n",
      "        [0.3191, 0.3662, 0.0130, 0.1000, 0.3355, 0.2034, 0.0839, 0.4157, 0.4943,\n",
      "         0.1915, 0.4127],\n",
      "        [0.2766, 0.1690, 0.6364, 0.2222, 0.3355, 0.6780, 0.6993, 0.5912, 0.5402,\n",
      "         0.4255, 0.5238],\n",
      "        [0.2447, 0.3944, 0.3896, 0.5333, 0.2039, 0.3390, 0.7203, 0.9053, 0.4713,\n",
      "         0.8404, 0.3651],\n",
      "        [0.2340, 0.6268, 0.0260, 0.1889, 0.1711, 0.5932, 0.3986, 0.7552, 0.7816,\n",
      "         0.4255, 0.2857],\n",
      "        [0.2979, 0.3662, 0.0390, 0.4778, 0.2829, 0.4576, 0.2797, 0.4619, 0.1494,\n",
      "         0.0957, 0.1111],\n",
      "        [0.2660, 0.5282, 0.1688, 0.1222, 0.2566, 0.2034, 0.0979, 0.3764, 0.4598,\n",
      "         0.1702, 0.3492],\n",
      "        [0.0638, 0.5563, 0.2468, 0.0444, 0.6842, 0.1186, 0.3916, 0.1640, 0.8391,\n",
      "         0.2447, 0.5238],\n",
      "        [0.3830, 0.1197, 0.5065, 0.2111, 0.2697, 0.2881, 0.2587, 0.2148, 0.4828,\n",
      "         0.4149, 0.7937],\n",
      "        [0.5532, 0.3803, 0.0909, 0.3667, 0.4276, 0.5424, 0.4545, 0.9607, 0.4828,\n",
      "         0.3511, 0.2698],\n",
      "        [0.3191, 0.8662, 0.2597, 0.1222, 0.0658, 0.2542, 0.3776, 0.3834, 0.5402,\n",
      "         0.0638, 0.5079],\n",
      "        [0.2447, 0.3944, 0.3896, 0.5333, 0.2039, 0.3390, 0.7203, 0.9053, 0.4713,\n",
      "         0.8404, 0.3651],\n",
      "        [0.3936, 0.4225, 0.1169, 0.1667, 0.3092, 0.1864, 0.7063, 0.5520, 0.2989,\n",
      "         0.2979, 0.2698],\n",
      "        [0.8511, 0.3944, 0.8442, 0.1889, 0.1711, 0.1017, 0.1329, 0.9376, 0.1609,\n",
      "         0.2021, 0.2857],\n",
      "        [0.5638, 0.3380, 0.3117, 0.1667, 0.2763, 0.3220, 0.3636, 0.9030, 0.3333,\n",
      "         0.1915, 0.3492],\n",
      "        [0.1809, 0.7676, 0.0390, 0.3444, 0.2237, 0.4576, 0.3636, 0.2933, 0.8276,\n",
      "         0.1170, 0.8254],\n",
      "        [0.1809, 0.1901, 0.4286, 0.3556, 0.0592, 0.2034, 0.3287, 0.0670, 0.5402,\n",
      "         0.2553, 0.7460],\n",
      "        [0.3511, 0.5423, 0.0649, 0.1111, 0.2434, 0.1356, 0.0909, 0.5104, 0.5172,\n",
      "         0.6064, 0.4127],\n",
      "        [0.1596, 0.1620, 0.3117, 0.1667, 0.3816, 0.3220, 0.2517, 0.2309, 0.7816,\n",
      "         0.2021, 0.6508],\n",
      "        [0.6277, 0.0845, 0.5065, 1.0000, 0.2105, 0.1017, 0.1189, 0.9954, 0.2644,\n",
      "         0.2979, 0.1111],\n",
      "        [0.1596, 0.3662, 0.0000, 0.0556, 0.1842, 0.1356, 0.0839, 0.5912, 0.7701,\n",
      "         0.4894, 0.1746]])\n",
      "targets: tensor([[1.3863],\n",
      "        [1.6094],\n",
      "        [1.7918],\n",
      "        [1.6094],\n",
      "        [1.7918],\n",
      "        [1.7918],\n",
      "        [1.9459],\n",
      "        [1.7918],\n",
      "        [1.7918],\n",
      "        [1.6094],\n",
      "        [1.9459],\n",
      "        [1.6094],\n",
      "        [1.7918],\n",
      "        [1.6094],\n",
      "        [1.9459],\n",
      "        [1.6094],\n",
      "        [1.7918],\n",
      "        [1.7918],\n",
      "        [1.7918],\n",
      "        [1.7918],\n",
      "        [1.7918],\n",
      "        [1.6094],\n",
      "        [1.6094],\n",
      "        [1.6094],\n",
      "        [1.7918],\n",
      "        [1.6094],\n",
      "        [1.6094],\n",
      "        [1.6094],\n",
      "        [1.6094],\n",
      "        [1.7918],\n",
      "        [1.7918],\n",
      "        [1.7918],\n",
      "        [1.6094],\n",
      "        [1.7918],\n",
      "        [1.7918],\n",
      "        [1.6094],\n",
      "        [1.6094],\n",
      "        [1.6094],\n",
      "        [1.6094],\n",
      "        [1.6094],\n",
      "        [1.7918],\n",
      "        [1.7918],\n",
      "        [1.6094],\n",
      "        [1.6094],\n",
      "        [1.9459],\n",
      "        [1.6094],\n",
      "        [1.6094],\n",
      "        [1.6094],\n",
      "        [1.6094],\n",
      "        [1.6094],\n",
      "        [1.6094],\n",
      "        [1.9459],\n",
      "        [1.6094],\n",
      "        [1.6094],\n",
      "        [1.6094],\n",
      "        [1.6094],\n",
      "        [1.6094],\n",
      "        [1.7918],\n",
      "        [1.7918],\n",
      "        [1.7918],\n",
      "        [1.7918],\n",
      "        [1.7918],\n",
      "        [1.6094],\n",
      "        [1.6094]])\n"
     ]
    },
    {
     "name": "stderr",
     "output_type": "stream",
     "text": [
      "C:\\Users\\Takur\\AppData\\Local\\Temp\\ipykernel_21252\\2088720507.py:11: FutureWarning: Series.__getitem__ treating keys as positions is deprecated. In a future version, integer keys will always be treated as labels (consistent with DataFrame behavior). To access a value by position, use `ser.iloc[pos]`\n",
      "  y = torch.tensor(self.targets.iloc[index], dtype=torch.float32)\n"
     ]
    }
   ],
   "execution_count": 17
  },
  {
   "metadata": {},
   "cell_type": "markdown",
   "source": "# 5. Обучение на тренировочном множестве",
   "id": "6c508cdcd23c0221"
  },
  {
   "metadata": {
    "ExecuteTime": {
     "end_time": "2024-05-28T16:26:04.287861Z",
     "start_time": "2024-05-28T16:26:04.280406Z"
    }
   },
   "cell_type": "code",
   "source": "from torch import nn",
   "id": "47deb5b599bdc733",
   "outputs": [],
   "execution_count": 18
  },
  {
   "metadata": {},
   "cell_type": "markdown",
   "source": "## Однослойная нейросеть",
   "id": "22646472efc48dec"
  },
  {
   "metadata": {
    "ExecuteTime": {
     "end_time": "2024-05-28T16:26:04.299079Z",
     "start_time": "2024-05-28T16:26:04.291387Z"
    }
   },
   "cell_type": "code",
   "source": [
    "input_size = 11\n",
    "output_size = 1\n",
    "learning_rate = 1e-2"
   ],
   "id": "a21c13be2a70ad90",
   "outputs": [],
   "execution_count": 19
  },
  {
   "metadata": {
    "ExecuteTime": {
     "end_time": "2024-05-28T16:26:04.309351Z",
     "start_time": "2024-05-28T16:26:04.302614Z"
    }
   },
   "cell_type": "code",
   "source": "first_model = nn.Linear(input_size, output_size)",
   "id": "c6bb67627e244fd0",
   "outputs": [],
   "execution_count": 20
  },
  {
   "metadata": {
    "ExecuteTime": {
     "end_time": "2024-05-28T16:26:04.330029Z",
     "start_time": "2024-05-28T16:26:04.313909Z"
    }
   },
   "cell_type": "code",
   "source": [
    "loss_fn1 = nn.MSELoss()\n",
    "first_optimizer =  torch.optim.SGD(first_model.parameters(), lr=learning_rate)"
   ],
   "id": "225d737032997d54",
   "outputs": [],
   "execution_count": 21
  },
  {
   "metadata": {
    "ExecuteTime": {
     "end_time": "2024-05-28T16:26:04.347349Z",
     "start_time": "2024-05-28T16:26:04.333575Z"
    }
   },
   "cell_type": "code",
   "source": "first_model.train()",
   "id": "f882f99c0a868116",
   "outputs": [
    {
     "data": {
      "text/plain": [
       "Linear(in_features=11, out_features=1, bias=True)"
      ]
     },
     "execution_count": 22,
     "metadata": {},
     "output_type": "execute_result"
    }
   ],
   "execution_count": 22
  },
  {
   "metadata": {
    "ExecuteTime": {
     "end_time": "2024-05-28T16:26:04.359152Z",
     "start_time": "2024-05-28T16:26:04.350358Z"
    }
   },
   "cell_type": "code",
   "source": "num_epochs = 25",
   "id": "755f3f00b0ee2b97",
   "outputs": [],
   "execution_count": 23
  },
  {
   "metadata": {
    "ExecuteTime": {
     "end_time": "2024-05-28T16:26:04.393013Z",
     "start_time": "2024-05-28T16:26:04.361677Z"
    }
   },
   "cell_type": "code",
   "source": [
    "train_losses = []\n",
    "test_losses = []"
   ],
   "id": "8d627b035a7e96fc",
   "outputs": [],
   "execution_count": 24
  },
  {
   "metadata": {
    "ExecuteTime": {
     "end_time": "2024-05-28T16:26:29.516020Z",
     "start_time": "2024-05-28T16:26:04.397914Z"
    }
   },
   "cell_type": "code",
   "source": [
    "def calculate_loss(model, loss_fn, data_loader):\n",
    "    total_loss = 0.0\n",
    "    total_samples = 0\n",
    "    with torch.no_grad():\n",
    "        for inputs, targets in data_loader:\n",
    "            outputs = model(inputs)\n",
    "            loss = loss_fn(outputs, targets)\n",
    "            total_loss += loss.item() * inputs.size(0)\n",
    "            total_samples += inputs.size(0)\n",
    "    return total_loss / total_samples\n",
    "\n",
    "for epoch in range(num_epochs):\n",
    "    train_loss = 0.0\n",
    "    for inputs, targets in train_loader:\n",
    "        first_optimizer.zero_grad()\n",
    "        outputs = first_model(inputs)\n",
    "        loss = loss_fn1(outputs, targets)\n",
    "        loss.backward()\n",
    "        first_optimizer.step()\n",
    "        train_loss += loss.item() * inputs.size(0)\n",
    "    train_loss /= len(train_loader.dataset)\n",
    "    train_losses.append(train_loss)\n",
    "\n",
    "    first_model.eval()\n",
    "    test_loss = calculate_loss(first_model, loss_fn1, test_loader)\n",
    "    test_losses.append(test_loss)\n",
    "\n",
    "    print(f'Epoch {epoch+1}/{num_epochs}, Train Loss: {train_loss:.4f}, Test Loss: {test_loss:.4f}')"
   ],
   "id": "9c915669f7df9e18",
   "outputs": [
    {
     "name": "stderr",
     "output_type": "stream",
     "text": [
      "C:\\Users\\Takur\\AppData\\Local\\Temp\\ipykernel_21252\\2088720507.py:11: FutureWarning: Series.__getitem__ treating keys as positions is deprecated. In a future version, integer keys will always be treated as labels (consistent with DataFrame behavior). To access a value by position, use `ser.iloc[pos]`\n",
      "  y = torch.tensor(self.targets.iloc[index], dtype=torch.float32)\n"
     ]
    },
    {
     "name": "stdout",
     "output_type": "stream",
     "text": [
      "Epoch 1/25, Train Loss: 1.1590, Test Loss: 0.3738\n",
      "Epoch 2/25, Train Loss: 0.1877, Test Loss: 0.0922\n",
      "Epoch 3/25, Train Loss: 0.0619, Test Loss: 0.0550\n",
      "Epoch 4/25, Train Loss: 0.0449, Test Loss: 0.0493\n",
      "Epoch 5/25, Train Loss: 0.0418, Test Loss: 0.0476\n",
      "Epoch 6/25, Train Loss: 0.0405, Test Loss: 0.0463\n",
      "Epoch 7/25, Train Loss: 0.0396, Test Loss: 0.0452\n",
      "Epoch 8/25, Train Loss: 0.0388, Test Loss: 0.0442\n",
      "Epoch 9/25, Train Loss: 0.0380, Test Loss: 0.0432\n",
      "Epoch 10/25, Train Loss: 0.0373, Test Loss: 0.0423\n",
      "Epoch 11/25, Train Loss: 0.0366, Test Loss: 0.0414\n",
      "Epoch 12/25, Train Loss: 0.0360, Test Loss: 0.0406\n",
      "Epoch 13/25, Train Loss: 0.0355, Test Loss: 0.0399\n",
      "Epoch 14/25, Train Loss: 0.0349, Test Loss: 0.0392\n",
      "Epoch 15/25, Train Loss: 0.0344, Test Loss: 0.0385\n",
      "Epoch 16/25, Train Loss: 0.0339, Test Loss: 0.0379\n",
      "Epoch 17/25, Train Loss: 0.0335, Test Loss: 0.0373\n",
      "Epoch 18/25, Train Loss: 0.0331, Test Loss: 0.0367\n",
      "Epoch 19/25, Train Loss: 0.0327, Test Loss: 0.0362\n",
      "Epoch 20/25, Train Loss: 0.0323, Test Loss: 0.0356\n",
      "Epoch 21/25, Train Loss: 0.0320, Test Loss: 0.0352\n",
      "Epoch 22/25, Train Loss: 0.0317, Test Loss: 0.0347\n",
      "Epoch 23/25, Train Loss: 0.0314, Test Loss: 0.0343\n",
      "Epoch 24/25, Train Loss: 0.0311, Test Loss: 0.0338\n",
      "Epoch 25/25, Train Loss: 0.0308, Test Loss: 0.0334\n"
     ]
    }
   ],
   "execution_count": 25
  },
  {
   "metadata": {},
   "cell_type": "markdown",
   "source": "Значение Test Loss (0.0334) значительно ниже, чем Train Loss (0.0308). Это указывает на то, что модель хорошо обобщает данные и показывает отличные результаты на новых данных (тестовых данных). Такие результаты могут свидетельствовать о том, что модель корректно обучена и способна эффективно работать на новых данных, что является очень хорошим показателем качества модели.",
   "id": "6326397a121c1ae0"
  },
  {
   "metadata": {
    "ExecuteTime": {
     "end_time": "2024-05-28T16:26:30.346781Z",
     "start_time": "2024-05-28T16:26:29.519032Z"
    }
   },
   "cell_type": "code",
   "source": [
    "epochs = range(1, num_epochs + 1)\n",
    "\n",
    "plt.plot(epochs, train_losses, label='Train Loss') \n",
    "plt.plot(epochs, test_losses, label='Test Loss') \n",
    "plt.xlabel('Epoch') \n",
    "plt.ylabel('Loss') \n",
    "plt.title('Learning Curve') \n",
    "plt.legend() \n",
    "plt.show()"
   ],
   "id": "ac0c75aabdf1fa6e",
   "outputs": [
    {
     "data": {
      "text/plain": [
       "<Figure size 640x480 with 1 Axes>"
      ],
      "image/png": "[encoded data removed]"
     },
     "metadata": {},
     "output_type": "display_data"
    }
   ],
   "execution_count": 26
  },
  {
   "metadata": {},
   "cell_type": "markdown",
   "source": "## Нейросеть с одним скрытым слоем",
   "id": "6afa58117fdbc4b8"
  },
  {
   "metadata": {
    "ExecuteTime": {
     "end_time": "2024-05-28T16:26:30.357605Z",
     "start_time": "2024-05-28T16:26:30.349795Z"
    }
   },
   "cell_type": "code",
   "source": "hidden_size = 4",
   "id": "a5e4039605d34ece",
   "outputs": [],
   "execution_count": 27
  },
  {
   "metadata": {
    "ExecuteTime": {
     "end_time": "2024-05-28T16:26:30.374978Z",
     "start_time": "2024-05-28T16:26:30.362129Z"
    }
   },
   "cell_type": "code",
   "source": [
    "second_model = nn.Sequential()\n",
    "second_model.add_module(\"first\", nn.Linear(input_size, hidden_size))\n",
    "second_model.add_module(\"first_activation\", nn.Sigmoid())\n",
    "second_model.add_module(\"second\", nn.Linear(hidden_size, output_size))"
   ],
   "id": "e87446f8959d6c96",
   "outputs": [],
   "execution_count": 28
  },
  {
   "metadata": {
    "ExecuteTime": {
     "end_time": "2024-05-28T16:26:30.394091Z",
     "start_time": "2024-05-28T16:26:30.378894Z"
    }
   },
   "cell_type": "code",
   "source": [
    "loss_fn2 = nn.MSELoss()\n",
    "second_optimizer = torch.optim.Adam(second_model.parameters(), lr=learning_rate)\n",
    "second_model.train()"
   ],
   "id": "fce29b038b19f87f",
   "outputs": [
    {
     "data": {
      "text/plain": [
       "Sequential(\n",
       "  (first): Linear(in_features=11, out_features=4, bias=True)\n",
       "  (first_activation): Sigmoid()\n",
       "  (second): Linear(in_features=4, out_features=1, bias=True)\n",
       ")"
      ]
     },
     "execution_count": 29,
     "metadata": {},
     "output_type": "execute_result"
    }
   ],
   "execution_count": 29
  },
  {
   "metadata": {
    "ExecuteTime": {
     "end_time": "2024-05-28T16:26:30.416289Z",
     "start_time": "2024-05-28T16:26:30.397122Z"
    }
   },
   "cell_type": "code",
   "source": [
    "train_losses = []\n",
    "test_losses = []"
   ],
   "id": "af9b6aef30e42422",
   "outputs": [],
   "execution_count": 30
  },
  {
   "metadata": {
    "ExecuteTime": {
     "end_time": "2024-05-28T16:26:57.554209Z",
     "start_time": "2024-05-28T16:26:30.419302Z"
    }
   },
   "cell_type": "code",
   "source": [
    "def calculate_loss(model, loss_fn, data_loader):\n",
    "    total_loss = 0.0\n",
    "    total_samples = 0\n",
    "    with torch.no_grad():\n",
    "        for inputs, targets in data_loader:\n",
    "            outputs = model(inputs)\n",
    "            loss = loss_fn(outputs, targets)\n",
    "            total_loss += loss.item() * inputs.size(0)\n",
    "            total_samples += inputs.size(0)\n",
    "    return total_loss / total_samples\n",
    "\n",
    "for epoch in range(num_epochs):\n",
    "    train_loss = 0.0\n",
    "    for inputs, targets in train_loader:\n",
    "        second_optimizer.zero_grad()\n",
    "        outputs = second_model(inputs)\n",
    "        loss = loss_fn2(outputs, targets)\n",
    "        loss.backward()\n",
    "        second_optimizer.step()\n",
    "        train_loss += loss.item() * inputs.size(0)\n",
    "    train_loss /= len(train_loader.dataset)\n",
    "    train_losses.append(train_loss)\n",
    "\n",
    "    first_model.eval()\n",
    "    test_loss = calculate_loss(second_model, loss_fn2, test_loader)\n",
    "    test_losses.append(test_loss)\n",
    "\n",
    "    print(f'Epoch {epoch+1}/{num_epochs}, Train Loss: {train_loss:.4f}, Test Loss: {test_loss:.4f}')"
   ],
   "id": "80a4cb1a4799af21",
   "outputs": [
    {
     "name": "stderr",
     "output_type": "stream",
     "text": [
      "C:\\Users\\Takur\\AppData\\Local\\Temp\\ipykernel_21252\\2088720507.py:11: FutureWarning: Series.__getitem__ treating keys as positions is deprecated. In a future version, integer keys will always be treated as labels (consistent with DataFrame behavior). To access a value by position, use `ser.iloc[pos]`\n",
      "  y = torch.tensor(self.targets.iloc[index], dtype=torch.float32)\n"
     ]
    },
    {
     "name": "stdout",
     "output_type": "stream",
     "text": [
      "Epoch 1/25, Train Loss: 3.5182, Test Loss: 2.3093\n",
      "Epoch 2/25, Train Loss: 1.5631, Test Loss: 0.9516\n",
      "Epoch 3/25, Train Loss: 0.5449, Test Loss: 0.2496\n",
      "Epoch 4/25, Train Loss: 0.1155, Test Loss: 0.0433\n",
      "Epoch 5/25, Train Loss: 0.0266, Test Loss: 0.0212\n",
      "Epoch 6/25, Train Loss: 0.0216, Test Loss: 0.0206\n",
      "Epoch 7/25, Train Loss: 0.0215, Test Loss: 0.0206\n",
      "Epoch 8/25, Train Loss: 0.0213, Test Loss: 0.0208\n",
      "Epoch 9/25, Train Loss: 0.0212, Test Loss: 0.0206\n",
      "Epoch 10/25, Train Loss: 0.0211, Test Loss: 0.0206\n",
      "Epoch 11/25, Train Loss: 0.0210, Test Loss: 0.0204\n",
      "Epoch 12/25, Train Loss: 0.0209, Test Loss: 0.0203\n",
      "Epoch 13/25, Train Loss: 0.0208, Test Loss: 0.0202\n",
      "Epoch 14/25, Train Loss: 0.0207, Test Loss: 0.0201\n",
      "Epoch 15/25, Train Loss: 0.0206, Test Loss: 0.0200\n",
      "Epoch 16/25, Train Loss: 0.0205, Test Loss: 0.0198\n",
      "Epoch 17/25, Train Loss: 0.0203, Test Loss: 0.0197\n",
      "Epoch 18/25, Train Loss: 0.0202, Test Loss: 0.0196\n",
      "Epoch 19/25, Train Loss: 0.0200, Test Loss: 0.0194\n",
      "Epoch 20/25, Train Loss: 0.0199, Test Loss: 0.0193\n",
      "Epoch 21/25, Train Loss: 0.0197, Test Loss: 0.0191\n",
      "Epoch 22/25, Train Loss: 0.0196, Test Loss: 0.0190\n",
      "Epoch 23/25, Train Loss: 0.0194, Test Loss: 0.0187\n",
      "Epoch 24/25, Train Loss: 0.0192, Test Loss: 0.0186\n",
      "Epoch 25/25, Train Loss: 0.0190, Test Loss: 0.0183\n"
     ]
    }
   ],
   "execution_count": 31
  },
  {
   "metadata": {},
   "cell_type": "markdown",
   "source": "В данном случае, значения Train Loss и Test Loss очень близки друг к другу. Это может указывать на то, что модель не переобучена (так как ошибка на тренировочных данных не сильно ниже, чем на тестовых данных), но также значение loss близко к нулю, это указывает на то, что модель хорошо справляется с задачей. ",
   "id": "74af22e15f5dd439"
  },
  {
   "metadata": {
    "ExecuteTime": {
     "end_time": "2024-05-28T16:26:58.333645Z",
     "start_time": "2024-05-28T16:26:57.557222Z"
    }
   },
   "cell_type": "code",
   "source": [
    "epochs = range(1, num_epochs + 1)\n",
    "\n",
    "plt.plot(epochs, train_losses, label='Train Loss') \n",
    "plt.plot(epochs, test_losses, label='Test Loss') \n",
    "plt.xlabel('Epoch') \n",
    "plt.ylabel('Loss') \n",
    "plt.title('Learning Curve') \n",
    "plt.legend() \n",
    "plt.show()"
   ],
   "id": "acebdf68608149f2",
   "outputs": [
    {
     "data": {
      "text/plain": [
       "<Figure size 640x480 with 1 Axes>"
      ],
      "image/png": "[encoded data removed]"
     },
     "metadata": {},
     "output_type": "display_data"
    }
   ],
   "execution_count": 32
  },
  {
   "metadata": {},
   "cell_type": "markdown",
   "source": "## Нейросеть с тремя скрытыми слоями",
   "id": "a2a27a927c040b1a"
  },
  {
   "metadata": {
    "ExecuteTime": {
     "end_time": "2024-05-28T16:26:58.344739Z",
     "start_time": "2024-05-28T16:26:58.336657Z"
    }
   },
   "cell_type": "code",
   "source": [
    "hidden_size1 = 5\n",
    "hidden_size2 = 4\n",
    "hidden_size3 = 2"
   ],
   "id": "61c15fa42279fec8",
   "outputs": [],
   "execution_count": 33
  },
  {
   "metadata": {
    "ExecuteTime": {
     "end_time": "2024-05-28T16:26:58.427252Z",
     "start_time": "2024-05-28T16:26:58.349751Z"
    }
   },
   "cell_type": "code",
   "source": [
    "third_model = nn.Sequential()\n",
    "third_model.add_module(\"first\", nn.Linear(input_size, hidden_size1))\n",
    "third_model.add_module(\"first_activation\", nn.Sigmoid())\n",
    "third_model.add_module(\"second\", nn.Linear(hidden_size1, hidden_size2))\n",
    "third_model.add_module(\"second_activation\", nn.Sigmoid())\n",
    "third_model.add_module(\"third\", nn.Linear(hidden_size2, hidden_size3))\n",
    "third_model.add_module(\"third_activation\", nn.Sigmoid())\n",
    "third_model.add_module(\"fourth\", nn.Linear(hidden_size3, output_size))"
   ],
   "id": "759b1cc316ec9afb",
   "outputs": [],
   "execution_count": 34
  },
  {
   "metadata": {
    "ExecuteTime": {
     "end_time": "2024-05-28T16:26:58.455711Z",
     "start_time": "2024-05-28T16:26:58.430264Z"
    }
   },
   "cell_type": "code",
   "source": [
    "loss_fn3 = nn.MSELoss()\n",
    "third_optimizer = torch.optim.Adam(third_model.parameters(), lr=learning_rate)\n",
    "third_model.train()"
   ],
   "id": "4a9cb2f846039259",
   "outputs": [
    {
     "data": {
      "text/plain": [
       "Sequential(\n",
       "  (first): Linear(in_features=11, out_features=5, bias=True)\n",
       "  (first_activation): Sigmoid()\n",
       "  (second): Linear(in_features=5, out_features=4, bias=True)\n",
       "  (second_activation): Sigmoid()\n",
       "  (third): Linear(in_features=4, out_features=2, bias=True)\n",
       "  (third_activation): Sigmoid()\n",
       "  (fourth): Linear(in_features=2, out_features=1, bias=True)\n",
       ")"
      ]
     },
     "execution_count": 35,
     "metadata": {},
     "output_type": "execute_result"
    }
   ],
   "execution_count": 35
  },
  {
   "metadata": {
    "ExecuteTime": {
     "end_time": "2024-05-28T16:26:58.471262Z",
     "start_time": "2024-05-28T16:26:58.458725Z"
    }
   },
   "cell_type": "code",
   "source": [
    "train_losses = []\n",
    "test_losses = []"
   ],
   "id": "8f6553507d840c18",
   "outputs": [],
   "execution_count": 36
  },
  {
   "metadata": {
    "ExecuteTime": {
     "end_time": "2024-05-28T16:27:25.871509Z",
     "start_time": "2024-05-28T16:26:58.499889Z"
    }
   },
   "cell_type": "code",
   "source": [
    "def calculate_loss(model, loss_fn, data_loader):\n",
    "    total_loss = 0.0\n",
    "    total_samples = 0\n",
    "    with torch.no_grad():\n",
    "        for inputs, targets in data_loader:\n",
    "            outputs = model(inputs)\n",
    "            loss = loss_fn(outputs, targets)\n",
    "            total_loss += loss.item() * inputs.size(0)\n",
    "            total_samples += inputs.size(0)\n",
    "    return total_loss / total_samples\n",
    "\n",
    "for epoch in range(num_epochs):\n",
    "    train_loss = 0.0\n",
    "    for inputs, targets in train_loader:\n",
    "        third_optimizer.zero_grad()\n",
    "        outputs = third_model(inputs)\n",
    "        loss = loss_fn3(outputs, targets)\n",
    "        loss.backward()\n",
    "        third_optimizer.step()\n",
    "        train_loss += loss.item() * inputs.size(0)\n",
    "    train_loss /= len(train_loader.dataset)\n",
    "    train_losses.append(train_loss)\n",
    "\n",
    "    first_model.eval()\n",
    "    test_loss = calculate_loss(third_model, loss_fn3, test_loader)\n",
    "    test_losses.append(test_loss)\n",
    "\n",
    "    print(f'Epoch {epoch+1}/{num_epochs}, Train Loss: {train_loss:.4f}, Test Loss: {test_loss:.4f}')"
   ],
   "id": "a3d9a1759227fcd9",
   "outputs": [
    {
     "name": "stderr",
     "output_type": "stream",
     "text": [
      "C:\\Users\\Takur\\AppData\\Local\\Temp\\ipykernel_21252\\2088720507.py:11: FutureWarning: Series.__getitem__ treating keys as positions is deprecated. In a future version, integer keys will always be treated as labels (consistent with DataFrame behavior). To access a value by position, use `ser.iloc[pos]`\n",
      "  y = torch.tensor(self.targets.iloc[index], dtype=torch.float32)\n"
     ]
    },
    {
     "name": "stdout",
     "output_type": "stream",
     "text": [
      "Epoch 1/25, Train Loss: 2.9993, Test Loss: 2.2332\n",
      "Epoch 2/25, Train Loss: 1.5937, Test Loss: 1.0565\n",
      "Epoch 3/25, Train Loss: 0.6587, Test Loss: 0.3586\n",
      "Epoch 4/25, Train Loss: 0.1805, Test Loss: 0.0705\n",
      "Epoch 5/25, Train Loss: 0.0341, Test Loss: 0.0212\n",
      "Epoch 6/25, Train Loss: 0.0217, Test Loss: 0.0206\n",
      "Epoch 7/25, Train Loss: 0.0215, Test Loss: 0.0207\n",
      "Epoch 8/25, Train Loss: 0.0212, Test Loss: 0.0209\n",
      "Epoch 9/25, Train Loss: 0.0212, Test Loss: 0.0209\n",
      "Epoch 10/25, Train Loss: 0.0212, Test Loss: 0.0209\n",
      "Epoch 11/25, Train Loss: 0.0212, Test Loss: 0.0208\n",
      "Epoch 12/25, Train Loss: 0.0212, Test Loss: 0.0208\n",
      "Epoch 13/25, Train Loss: 0.0212, Test Loss: 0.0210\n",
      "Epoch 14/25, Train Loss: 0.0212, Test Loss: 0.0208\n",
      "Epoch 15/25, Train Loss: 0.0212, Test Loss: 0.0209\n",
      "Epoch 16/25, Train Loss: 0.0212, Test Loss: 0.0208\n",
      "Epoch 17/25, Train Loss: 0.0212, Test Loss: 0.0208\n",
      "Epoch 18/25, Train Loss: 0.0212, Test Loss: 0.0208\n",
      "Epoch 19/25, Train Loss: 0.0212, Test Loss: 0.0208\n",
      "Epoch 20/25, Train Loss: 0.0212, Test Loss: 0.0207\n",
      "Epoch 21/25, Train Loss: 0.0212, Test Loss: 0.0209\n",
      "Epoch 22/25, Train Loss: 0.0211, Test Loss: 0.0207\n",
      "Epoch 23/25, Train Loss: 0.0212, Test Loss: 0.0207\n",
      "Epoch 24/25, Train Loss: 0.0211, Test Loss: 0.0208\n",
      "Epoch 25/25, Train Loss: 0.0211, Test Loss: 0.0207\n"
     ]
    }
   ],
   "execution_count": 37
  },
  {
   "metadata": {},
   "cell_type": "markdown",
   "source": "В данном случае мы видим, что Train Loss и Test Loss практически не отличаются, что свидетельствует о том, что модель достигла оптимальной производительности.",
   "id": "5a09e78e6371e277"
  },
  {
   "metadata": {
    "ExecuteTime": {
     "end_time": "2024-05-28T16:27:26.367026Z",
     "start_time": "2024-05-28T16:27:25.875054Z"
    }
   },
   "cell_type": "code",
   "source": [
    "epochs = range(1, num_epochs + 1)\n",
    "\n",
    "plt.plot(epochs, train_losses, label='Train Loss') \n",
    "plt.plot(epochs, test_losses, label='Test Loss') \n",
    "plt.xlabel('Epoch') \n",
    "plt.ylabel('Loss') \n",
    "plt.title('Learning Curve') \n",
    "plt.legend() \n",
    "plt.show()"
   ],
   "id": "794d7ecd13bda5d8",
   "outputs": [
    {
     "data": {
      "text/plain": [
       "<Figure size 640x480 with 1 Axes>"
      ],
      "image/png": "[encoded data removed]"
     },
     "metadata": {},
     "output_type": "display_data"
    }
   ],
   "execution_count": 38
  },
  {
   "metadata": {},
   "cell_type": "markdown",
   "source": "# 6. Метрики mae",
   "id": "1b167aed4af910d3"
  },
  {
   "metadata": {
    "ExecuteTime": {
     "end_time": "2024-05-28T16:27:26.377525Z",
     "start_time": "2024-05-28T16:27:26.370038Z"
    }
   },
   "cell_type": "code",
   "source": "from sklearn.metrics import mean_absolute_error",
   "id": "2657eb2ceca82d9f",
   "outputs": [],
   "execution_count": 39
  },
  {
   "metadata": {},
   "cell_type": "markdown",
   "source": "## Однослойная нейросеть",
   "id": "442bd6032afe95d3"
  },
  {
   "metadata": {
    "ExecuteTime": {
     "end_time": "2024-05-28T16:27:26.885004Z",
     "start_time": "2024-05-28T16:27:26.382055Z"
    }
   },
   "cell_type": "code",
   "source": [
    "train_predictions = []\n",
    "train_targets = []\n",
    "\n",
    "for inputs, targets in train_loader:\n",
    "    predictions = first_model(inputs).detach().numpy()\n",
    "    train_predictions.extend(predictions)\n",
    "\n",
    "    train_targets.extend(targets.numpy())\n",
    "\n",
    "train_mae = mean_absolute_error(train_targets, train_predictions)\n",
    "print(\"Train test \\n MAE:\", train_mae)"
   ],
   "id": "123a424fc9a19458",
   "outputs": [
    {
     "name": "stderr",
     "output_type": "stream",
     "text": [
      "C:\\Users\\Takur\\AppData\\Local\\Temp\\ipykernel_21252\\2088720507.py:11: FutureWarning: Series.__getitem__ treating keys as positions is deprecated. In a future version, integer keys will always be treated as labels (consistent with DataFrame behavior). To access a value by position, use `ser.iloc[pos]`\n",
      "  y = torch.tensor(self.targets.iloc[index], dtype=torch.float32)\n"
     ]
    },
    {
     "name": "stdout",
     "output_type": "stream",
     "text": [
      "Train test \n",
      " MAE: 0.13617364\n"
     ]
    }
   ],
   "execution_count": 40
  },
  {
   "metadata": {
    "ExecuteTime": {
     "end_time": "2024-05-28T16:27:27.050545Z",
     "start_time": "2024-05-28T16:27:26.888017Z"
    }
   },
   "cell_type": "code",
   "source": [
    "test_predictions = []\n",
    "test_targets = []\n",
    "\n",
    "for inputs, targets in test_loader:\n",
    "    predictions = first_model(inputs).detach().numpy()\n",
    "    test_predictions.extend(predictions)\n",
    "    \n",
    "    test_targets.extend(targets.numpy())\n",
    "\n",
    "test_mae = mean_absolute_error(test_targets, test_predictions)\n",
    "print(\"Test test \\n MAE:\", test_mae)"
   ],
   "id": "d0ab2fcf5b49d847",
   "outputs": [
    {
     "name": "stdout",
     "output_type": "stream",
     "text": [
      "Test test \n",
      " MAE: 0.14204545\n"
     ]
    },
    {
     "name": "stderr",
     "output_type": "stream",
     "text": [
      "C:\\Users\\Takur\\AppData\\Local\\Temp\\ipykernel_21252\\2088720507.py:11: FutureWarning: Series.__getitem__ treating keys as positions is deprecated. In a future version, integer keys will always be treated as labels (consistent with DataFrame behavior). To access a value by position, use `ser.iloc[pos]`\n",
      "  y = torch.tensor(self.targets.iloc[index], dtype=torch.float32)\n"
     ]
    }
   ],
   "execution_count": 41
  },
  {
   "metadata": {},
   "cell_type": "markdown",
   "source": "В результате для тренировочной выборки была получена метрика mae, равная 0.136. Иэ этого следует, что предсказанные значения близки к истинным значениям. Кроме того для тестовой выборки значение метрики также недалеки от нуля, что указывает на то, что модель хорошо обучается на новых данных. Разница между тренировочным и тестовым MAE практически отсутствует.",
   "id": "aecc6b1e429255c0"
  },
  {
   "metadata": {},
   "cell_type": "markdown",
   "source": "## Нейросеть с одним скрытым слоем",
   "id": "b544fdbd65bbf3bf"
  },
  {
   "metadata": {
    "ExecuteTime": {
     "end_time": "2024-05-28T16:27:27.648697Z",
     "start_time": "2024-05-28T16:27:27.056092Z"
    }
   },
   "cell_type": "code",
   "source": [
    "train_predictions = []\n",
    "train_targets = []\n",
    "\n",
    "for inputs, targets in train_loader:\n",
    "    predictions = second_model(inputs).detach().numpy()\n",
    "    train_predictions.extend(predictions)\n",
    "\n",
    "    train_targets.extend(targets.numpy())\n",
    "\n",
    "train_mae = mean_absolute_error(train_targets, train_predictions)\n",
    "print(\"Train test \\n MAE:\", train_mae)"
   ],
   "id": "4d4e2bfa2aef4264",
   "outputs": [
    {
     "name": "stderr",
     "output_type": "stream",
     "text": [
      "C:\\Users\\Takur\\AppData\\Local\\Temp\\ipykernel_21252\\2088720507.py:11: FutureWarning: Series.__getitem__ treating keys as positions is deprecated. In a future version, integer keys will always be treated as labels (consistent with DataFrame behavior). To access a value by position, use `ser.iloc[pos]`\n",
      "  y = torch.tensor(self.targets.iloc[index], dtype=torch.float32)\n"
     ]
    },
    {
     "name": "stdout",
     "output_type": "stream",
     "text": [
      "Train test \n",
      " MAE: 0.11274136\n"
     ]
    }
   ],
   "execution_count": 42
  },
  {
   "metadata": {
    "ExecuteTime": {
     "end_time": "2024-05-28T16:27:27.837046Z",
     "start_time": "2024-05-28T16:27:27.652235Z"
    }
   },
   "cell_type": "code",
   "source": [
    "test_predictions = []\n",
    "test_targets = []\n",
    "\n",
    "for inputs, targets in test_loader:\n",
    "    predictions = second_model(inputs).detach().numpy()\n",
    "    test_predictions.extend(predictions)\n",
    "    \n",
    "    test_targets.extend(targets.numpy())\n",
    "\n",
    "test_mae = mean_absolute_error(test_targets, test_predictions)\n",
    "print(\"Test test \\n MAE:\", test_mae)"
   ],
   "id": "c9fc21dae11fc347",
   "outputs": [
    {
     "name": "stdout",
     "output_type": "stream",
     "text": [
      "Test test \n",
      " MAE: 0.11260869\n"
     ]
    },
    {
     "name": "stderr",
     "output_type": "stream",
     "text": [
      "C:\\Users\\Takur\\AppData\\Local\\Temp\\ipykernel_21252\\2088720507.py:11: FutureWarning: Series.__getitem__ treating keys as positions is deprecated. In a future version, integer keys will always be treated as labels (consistent with DataFrame behavior). To access a value by position, use `ser.iloc[pos]`\n",
      "  y = torch.tensor(self.targets.iloc[index], dtype=torch.float32)\n"
     ]
    }
   ],
   "execution_count": 43
  },
  {
   "metadata": {},
   "cell_type": "markdown",
   "source": "Для тренировочной выборки средняя абсолютная ошибка равна 0.11. Иэ этого следует, что предсказанные значения близки к истинным значениям. В целом MAE для тренировочного набора близка к MAE для тестового наборов данных, что может свидетельствовать о том, что модель обобщает данные хорошо.",
   "id": "ad24076fd40ddf34"
  },
  {
   "metadata": {},
   "cell_type": "markdown",
   "source": "## Нейросеть с тремя скрытыми слоями",
   "id": "93d2b48674559990"
  },
  {
   "metadata": {
    "ExecuteTime": {
     "end_time": "2024-05-28T16:27:28.470066Z",
     "start_time": "2024-05-28T16:27:27.841573Z"
    }
   },
   "cell_type": "code",
   "source": [
    "train_predictions = []\n",
    "train_targets = []\n",
    "\n",
    "for inputs, targets in train_loader:\n",
    "    predictions = third_model(inputs).detach().numpy()\n",
    "    train_predictions.extend(predictions)\n",
    "\n",
    "    train_targets.extend(targets.numpy())\n",
    "\n",
    "train_mae = mean_absolute_error(train_targets, train_predictions)\n",
    "print(\"Train test \\n MAE:\", train_mae)"
   ],
   "id": "e9daab27c1b67753",
   "outputs": [
    {
     "name": "stderr",
     "output_type": "stream",
     "text": [
      "C:\\Users\\Takur\\AppData\\Local\\Temp\\ipykernel_21252\\2088720507.py:11: FutureWarning: Series.__getitem__ treating keys as positions is deprecated. In a future version, integer keys will always be treated as labels (consistent with DataFrame behavior). To access a value by position, use `ser.iloc[pos]`\n",
      "  y = torch.tensor(self.targets.iloc[index], dtype=torch.float32)\n"
     ]
    },
    {
     "name": "stdout",
     "output_type": "stream",
     "text": [
      "Train test \n",
      " MAE: 0.12264096\n"
     ]
    }
   ],
   "execution_count": 44
  },
  {
   "metadata": {
    "ExecuteTime": {
     "end_time": "2024-05-28T16:27:28.618530Z",
     "start_time": "2024-05-28T16:27:28.473118Z"
    }
   },
   "cell_type": "code",
   "source": [
    "test_predictions = []\n",
    "test_targets = []\n",
    "\n",
    "for inputs, targets in test_loader:\n",
    "    predictions = third_model(inputs).detach().numpy()\n",
    "    test_predictions.extend(predictions)\n",
    "\n",
    "    test_targets.extend(targets.numpy())\n",
    "\n",
    "test_mae = mean_absolute_error(test_targets, test_predictions)\n",
    "print(\"Test test \\n MAE:\", test_mae)"
   ],
   "id": "87e9e9982e68d8e9",
   "outputs": [
    {
     "name": "stdout",
     "output_type": "stream",
     "text": [
      "Test test \n",
      " MAE: 0.12266363\n"
     ]
    },
    {
     "name": "stderr",
     "output_type": "stream",
     "text": [
      "C:\\Users\\Takur\\AppData\\Local\\Temp\\ipykernel_21252\\2088720507.py:11: FutureWarning: Series.__getitem__ treating keys as positions is deprecated. In a future version, integer keys will always be treated as labels (consistent with DataFrame behavior). To access a value by position, use `ser.iloc[pos]`\n",
      "  y = torch.tensor(self.targets.iloc[index], dtype=torch.float32)\n"
     ]
    }
   ],
   "execution_count": 45
  },
  {
   "metadata": {},
   "cell_type": "markdown",
   "source": "Результаты метрик достаточно близки к друг другу, что свидетельствует о том, что модель в целом хорошо справилась с обучением.",
   "id": "79418c5cc578f65"
  }
 ],
 "metadata": {
  "kernelspec": {
   "display_name": "Python 3 (ipykernel)",
   "language": "python",
   "name": "python3"
  },
  "language_info": {
   "codemirror_mode": {
    "name": "ipython",
    "version": 3
   },
   "file_extension": ".py",
   "mimetype": "text/x-python",
   "name": "python",
   "nbconvert_exporter": "python",
   "pygments_lexer": "ipython3",
   "version": "3.9.6"
  }
 },
 "nbformat": 4,
 "nbformat_minor": 5
}
