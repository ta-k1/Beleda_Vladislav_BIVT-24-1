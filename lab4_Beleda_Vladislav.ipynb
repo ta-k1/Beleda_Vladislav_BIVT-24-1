{
 "cells": [
  {
   "cell_type": "markdown",
   "id": "bc9520d2",
   "metadata": {},
   "source": [
    "# Лабораторная работа №4\n",
    "\n",
    "ФИО: Беледа Владислав Валентинович  \n",
    "Группа: БИВТ-21-4\n",
    "\n",
    "Отправлять можно следующими способами:\n",
    "1. Запушить этот ноутбук в GitHub в репозиторий, где у вас лежат ноутбуки с лабами\n",
    "\n",
    "Deadlines:\n",
    "- Занятие №8 в семестре (Занятие №4 очное)\n",
    "\n",
    "Что необходимо сделать:  \n",
    "- Обучить различные модели глубокого обучения на имеющихся данных  \n",
    "\n",
    "---\n",
    "## Читайте задание внимательно\n",
    "\n",
    "Исходные данные:\n",
    "1. В [табличке](https://docs.google.com/spreadsheets/d/11600OkqdRzxc-xZmFTuBs099VeAqU_GlE0Bx6bBlIRE/edit?usp=sharing) необходимо узнать название своего датасета \n",
    "2. Скачать нужны вам данные можно в [Google Drive](https://drive.google.com/drive/folders/1Phm-Fq1GL-VX7NS-DCEMRh_Fo1wU7DQ9?usp=sharing)\n",
    "  \n",
    "---\n",
    "Теперь по пунктам, что я от вас жду:  \n",
    "1. Загрузить необходимые данные к себе и считать (read) их в переменную.\n",
    "2. Понять, у вас задача классификации (бинарной или многоклассовой) или регрессии.\n",
    "3. Сделать предобработку данных:  \n",
    "     1. Разделить выборку на тренировочную (train) и тестовую (test). _Обратите внимание, что обучать скейлеры и определять, какими значениями вы будете заполнять пропуски, вы будете на train выборке, а применять и на train, и на test_.\n",
    "     2. Проверить пропуски в данных. Если они есть, заполнить одной из стратегий, предложенных в ноутбуке для семинара №3. P.S. Для численных и категориальных переменных будут разные стратегии.\n",
    "     3. Отнормировать численные переменные (`StandardScaler`, `MinMaxScaler`).\n",
    "     4. Закодировать категориальные признаки по одной из стратегий.\n",
    "4. Оформить данные в виде класса `Dataset` из библиотеки `torch` (как мы это делали на семинаре), а затем засунуть в `Dataloader` (тоже делали на семинаре).\n",
    "5. Обучить на тренировочном множестве:\n",
    "     1. Очень простую однослойную нейросеть с оптимизатором `SGD` ([link](https://pytorch.org/docs/stable/optim.html)).\n",
    "     2. Нейросеть посложнее (с 1 скрытым слоем) с оптимизатором `Adam` ([link](https://pytorch.org/docs/stable/optim.html)).\n",
    "     3. Нейросеть еще сложнее (с 3+ скрытыми слоями) с оптимизатором `Adam` ([link](https://pytorch.org/docs/stable/optim.html)).\n",
    "6. Посчитайте loss на train и test множествах, в зависимости от эпохи обучения. Провизуализируйте это с помощью библиотеки `matplotlib` (выйдет так называемая **learning curve**, кривая обучения модели).\n",
    "6. Посчитайте метрики на train и test множествах:\n",
    "     1. Для задачи классификации -- Accuracy\n",
    "     2. Для задачи регрессии -- MAE\n",
    "7. Сравните метрики относительно train/test, так и относительно разных моделей. Ответьте на следующие вопросы:\n",
    "     1. Какая модель справилась лучше с поставленной задачей?\n",
    "     2. Имеет ли место переобучение?\n",
    "     3. Имеет ли место недообучение?\n",
    "     4. Как можно улучшить метрики моделей?\n",
    "\n",
    "---\n",
    "P.S.  \n",
    "Просьба -- делать каждое задание в отдельных ячейках и с отдельными заголовками (как пункт 1 и 2 в этом ноутбуке) типа  \n",
    "- Заголовок\n",
    "- Ячейки с кодом\n",
    "- Другой заголовок\n",
    "- Другие ячейки с кодом\n",
    "\n",
    "P.S.S.  \n",
    "Если вам повезло с многоклассовой классификацией, у вас не будет проблем, просто нужно будет поставить необходимое количество нейронов на выходе вашей нейросети."
   ]
  },
  {
   "cell_type": "markdown",
   "id": "28b51062",
   "metadata": {},
   "source": [
    "## 1. Пример импорта данных. Грузим данные"
   ]
  },
  {
   "cell_type": "code",
   "id": "406597a7",
   "metadata": {
    "ExecuteTime": {
     "end_time": "2024-05-28T15:44:11.268660Z",
     "start_time": "2024-05-28T15:44:10.899972Z"
    }
   },
   "source": [
    "from sklearn.model_selection import train_test_split\n",
    "from sklearn.preprocessing import MinMaxScaler\n",
    "import pandas as pd\n",
    "import matplotlib.pyplot as plt\n",
    "import numpy as np\n",
    "import seaborn as sns\n",
    "import torch\n",
    "db = pd.read_csv('https://github.com/ta-k1/Beleda_Vladislav_BIVT-24-1/raw/main/winequality-red.csv')"
   ],
   "outputs": [],
   "execution_count": 105
  },
  {
   "cell_type": "markdown",
   "id": "0d119028",
   "metadata": {},
   "source": [
    "## 2. Понимаем, какая перед нами задача"
   ]
  },
  {
   "cell_type": "code",
   "id": "d92464d0",
   "metadata": {
    "ExecuteTime": {
     "end_time": "2024-05-28T15:44:11.491980Z",
     "start_time": "2024-05-28T15:44:11.457962Z"
    }
   },
   "source": "db.head()",
   "outputs": [
    {
     "data": {
      "text/plain": [
       "   fixed acidity  volatile acidity  citric acid  residual sugar  chlorides  \\\n",
       "0            7.4              0.70         0.00             1.9      0.076   \n",
       "1            7.8              0.88         0.00             2.6      0.098   \n",
       "2            7.8              0.76         0.04             2.3      0.092   \n",
       "3           11.2              0.28         0.56             1.9      0.075   \n",
       "4            7.4              0.70         0.00             1.9      0.076   \n",
       "\n",
       "   free sulfur dioxide  total sulfur dioxide  density    pH  sulphates  \\\n",
       "0                 11.0                  34.0   0.9978  3.51       0.56   \n",
       "1                 25.0                  67.0   0.9968  3.20       0.68   \n",
       "2                 15.0                  54.0   0.9970  3.26       0.65   \n",
       "3                 17.0                  60.0   0.9980  3.16       0.58   \n",
       "4                 11.0                  34.0   0.9978  3.51       0.56   \n",
       "\n",
       "   alcohol  quality  \n",
       "0      9.4        5  \n",
       "1      9.8        5  \n",
       "2      9.8        5  \n",
       "3      9.8        6  \n",
       "4      9.4        5  "
      ],
      "text/html": [
       "<div>\n",
       "<style scoped>\n",
       "    .dataframe tbody tr th:only-of-type {\n",
       "        vertical-align: middle;\n",
       "    }\n",
       "\n",
       "    .dataframe tbody tr th {\n",
       "        vertical-align: top;\n",
       "    }\n",
       "\n",
       "    .dataframe thead th {\n",
       "        text-align: right;\n",
       "    }\n",
       "</style>\n",
       "<table border=\"1\" class=\"dataframe\">\n",
       "  <thead>\n",
       "    <tr style=\"text-align: right;\">\n",
       "      <th></th>\n",
       "      <th>fixed acidity</th>\n",
       "      <th>volatile acidity</th>\n",
       "      <th>citric acid</th>\n",
       "      <th>residual sugar</th>\n",
       "      <th>chlorides</th>\n",
       "      <th>free sulfur dioxide</th>\n",
       "      <th>total sulfur dioxide</th>\n",
       "      <th>density</th>\n",
       "      <th>pH</th>\n",
       "      <th>sulphates</th>\n",
       "      <th>alcohol</th>\n",
       "      <th>quality</th>\n",
       "    </tr>\n",
       "  </thead>\n",
       "  <tbody>\n",
       "    <tr>\n",
       "      <th>0</th>\n",
       "      <td>7.4</td>\n",
       "      <td>0.70</td>\n",
       "      <td>0.00</td>\n",
       "      <td>1.9</td>\n",
       "      <td>0.076</td>\n",
       "      <td>11.0</td>\n",
       "      <td>34.0</td>\n",
       "      <td>0.9978</td>\n",
       "      <td>3.51</td>\n",
       "      <td>0.56</td>\n",
       "      <td>9.4</td>\n",
       "      <td>5</td>\n",
       "    </tr>\n",
       "    <tr>\n",
       "      <th>1</th>\n",
       "      <td>7.8</td>\n",
       "      <td>0.88</td>\n",
       "      <td>0.00</td>\n",
       "      <td>2.6</td>\n",
       "      <td>0.098</td>\n",
       "      <td>25.0</td>\n",
       "      <td>67.0</td>\n",
       "      <td>0.9968</td>\n",
       "      <td>3.20</td>\n",
       "      <td>0.68</td>\n",
       "      <td>9.8</td>\n",
       "      <td>5</td>\n",
       "    </tr>\n",
       "    <tr>\n",
       "      <th>2</th>\n",
       "      <td>7.8</td>\n",
       "      <td>0.76</td>\n",
       "      <td>0.04</td>\n",
       "      <td>2.3</td>\n",
       "      <td>0.092</td>\n",
       "      <td>15.0</td>\n",
       "      <td>54.0</td>\n",
       "      <td>0.9970</td>\n",
       "      <td>3.26</td>\n",
       "      <td>0.65</td>\n",
       "      <td>9.8</td>\n",
       "      <td>5</td>\n",
       "    </tr>\n",
       "    <tr>\n",
       "      <th>3</th>\n",
       "      <td>11.2</td>\n",
       "      <td>0.28</td>\n",
       "      <td>0.56</td>\n",
       "      <td>1.9</td>\n",
       "      <td>0.075</td>\n",
       "      <td>17.0</td>\n",
       "      <td>60.0</td>\n",
       "      <td>0.9980</td>\n",
       "      <td>3.16</td>\n",
       "      <td>0.58</td>\n",
       "      <td>9.8</td>\n",
       "      <td>6</td>\n",
       "    </tr>\n",
       "    <tr>\n",
       "      <th>4</th>\n",
       "      <td>7.4</td>\n",
       "      <td>0.70</td>\n",
       "      <td>0.00</td>\n",
       "      <td>1.9</td>\n",
       "      <td>0.076</td>\n",
       "      <td>11.0</td>\n",
       "      <td>34.0</td>\n",
       "      <td>0.9978</td>\n",
       "      <td>3.51</td>\n",
       "      <td>0.56</td>\n",
       "      <td>9.4</td>\n",
       "      <td>5</td>\n",
       "    </tr>\n",
       "  </tbody>\n",
       "</table>\n",
       "</div>"
      ]
     },
     "execution_count": 106,
     "metadata": {},
     "output_type": "execute_result"
    }
   ],
   "execution_count": 106
  },
  {
   "metadata": {
    "ExecuteTime": {
     "end_time": "2024-05-28T15:44:12.193570Z",
     "start_time": "2024-05-28T15:44:11.502570Z"
    }
   },
   "cell_type": "code",
   "source": [
    "palette = sns.color_palette('deep') \n",
    "sns.histplot(data=db, x='quality', bins=6)\n",
    "plt.title(\"Quality Distribution\")"
   ],
   "id": "addfe4882ae634c6",
   "outputs": [
    {
     "data": {
      "text/plain": [
       "Text(0.5, 1.0, 'Quality Distribution')"
      ]
     },
     "execution_count": 107,
     "metadata": {},
     "output_type": "execute_result"
    },
    {
     "data": {
      "text/plain": [
       "<Figure size 640x480 with 1 Axes>"
      ],
      "image/png": "[encoded data removed]"
     },
     "metadata": {},
     "output_type": "display_data"
    }
   ],
   "execution_count": 107
  },
  {
   "cell_type": "markdown",
   "id": "34931f43",
   "metadata": {},
   "source": [
    "## 3. Делаем предобработку данных"
   ]
  },
  {
   "metadata": {
    "ExecuteTime": {
     "end_time": "2024-05-28T15:44:12.206930Z",
     "start_time": "2024-05-28T15:44:12.199579Z"
    }
   },
   "cell_type": "code",
   "source": "## Логарифмирование",
   "id": "3d6d7b89f5070009",
   "outputs": [],
   "execution_count": 108
  },
  {
   "cell_type": "code",
   "id": "67a611d0",
   "metadata": {
    "ExecuteTime": {
     "end_time": "2024-05-28T15:44:12.805961Z",
     "start_time": "2024-05-28T15:44:12.213488Z"
    }
   },
   "source": [
    "db['quality'] = np.log(db['quality'])\n",
    "sns.histplot(data=db, x='quality', bins=6)\n",
    "plt.title(\"Quality Distribution\")\n",
    "plt.show()"
   ],
   "outputs": [
    {
     "data": {
      "text/plain": [
       "<Figure size 640x480 with 1 Axes>"
      ],
      "image/png": "[encoded data removed]"
     },
     "metadata": {},
     "output_type": "display_data"
    }
   ],
   "execution_count": 109
  },
  {
   "metadata": {
    "ExecuteTime": {
     "end_time": "2024-05-28T15:44:12.943909Z",
     "start_time": "2024-05-28T15:44:12.815532Z"
    }
   },
   "cell_type": "code",
   "source": "db",
   "id": "6b1503a0434e1a5",
   "outputs": [
    {
     "data": {
      "text/plain": [
       "      fixed acidity  volatile acidity  citric acid  residual sugar  chlorides  \\\n",
       "0               7.4             0.700         0.00             1.9      0.076   \n",
       "1               7.8             0.880         0.00             2.6      0.098   \n",
       "2               7.8             0.760         0.04             2.3      0.092   \n",
       "3              11.2             0.280         0.56             1.9      0.075   \n",
       "4               7.4             0.700         0.00             1.9      0.076   \n",
       "...             ...               ...          ...             ...        ...   \n",
       "1594            6.2             0.600         0.08             2.0      0.090   \n",
       "1595            5.9             0.550         0.10             2.2      0.062   \n",
       "1596            6.3             0.510         0.13             2.3      0.076   \n",
       "1597            5.9             0.645         0.12             2.0      0.075   \n",
       "1598            6.0             0.310         0.47             3.6      0.067   \n",
       "\n",
       "      free sulfur dioxide  total sulfur dioxide  density    pH  sulphates  \\\n",
       "0                    11.0                  34.0  0.99780  3.51       0.56   \n",
       "1                    25.0                  67.0  0.99680  3.20       0.68   \n",
       "2                    15.0                  54.0  0.99700  3.26       0.65   \n",
       "3                    17.0                  60.0  0.99800  3.16       0.58   \n",
       "4                    11.0                  34.0  0.99780  3.51       0.56   \n",
       "...                   ...                   ...      ...   ...        ...   \n",
       "1594                 32.0                  44.0  0.99490  3.45       0.58   \n",
       "1595                 39.0                  51.0  0.99512  3.52       0.76   \n",
       "1596                 29.0                  40.0  0.99574  3.42       0.75   \n",
       "1597                 32.0                  44.0  0.99547  3.57       0.71   \n",
       "1598                 18.0                  42.0  0.99549  3.39       0.66   \n",
       "\n",
       "      alcohol   quality  \n",
       "0         9.4  1.609438  \n",
       "1         9.8  1.609438  \n",
       "2         9.8  1.609438  \n",
       "3         9.8  1.791759  \n",
       "4         9.4  1.609438  \n",
       "...       ...       ...  \n",
       "1594     10.5  1.609438  \n",
       "1595     11.2  1.791759  \n",
       "1596     11.0  1.791759  \n",
       "1597     10.2  1.609438  \n",
       "1598     11.0  1.791759  \n",
       "\n",
       "[1599 rows x 12 columns]"
      ],
      "text/html": [
       "<div>\n",
       "<style scoped>\n",
       "    .dataframe tbody tr th:only-of-type {\n",
       "        vertical-align: middle;\n",
       "    }\n",
       "\n",
       "    .dataframe tbody tr th {\n",
       "        vertical-align: top;\n",
       "    }\n",
       "\n",
       "    .dataframe thead th {\n",
       "        text-align: right;\n",
       "    }\n",
       "</style>\n",
       "<table border=\"1\" class=\"dataframe\">\n",
       "  <thead>\n",
       "    <tr style=\"text-align: right;\">\n",
       "      <th></th>\n",
       "      <th>fixed acidity</th>\n",
       "      <th>volatile acidity</th>\n",
       "      <th>citric acid</th>\n",
       "      <th>residual sugar</th>\n",
       "      <th>chlorides</th>\n",
       "      <th>free sulfur dioxide</th>\n",
       "      <th>total sulfur dioxide</th>\n",
       "      <th>density</th>\n",
       "      <th>pH</th>\n",
       "      <th>sulphates</th>\n",
       "      <th>alcohol</th>\n",
       "      <th>quality</th>\n",
       "    </tr>\n",
       "  </thead>\n",
       "  <tbody>\n",
       "    <tr>\n",
       "      <th>0</th>\n",
       "      <td>7.4</td>\n",
       "      <td>0.700</td>\n",
       "      <td>0.00</td>\n",
       "      <td>1.9</td>\n",
       "      <td>0.076</td>\n",
       "      <td>11.0</td>\n",
       "      <td>34.0</td>\n",
       "      <td>0.99780</td>\n",
       "      <td>3.51</td>\n",
       "      <td>0.56</td>\n",
       "      <td>9.4</td>\n",
       "      <td>1.609438</td>\n",
       "    </tr>\n",
       "    <tr>\n",
       "      <th>1</th>\n",
       "      <td>7.8</td>\n",
       "      <td>0.880</td>\n",
       "      <td>0.00</td>\n",
       "      <td>2.6</td>\n",
       "      <td>0.098</td>\n",
       "      <td>25.0</td>\n",
       "      <td>67.0</td>\n",
       "      <td>0.99680</td>\n",
       "      <td>3.20</td>\n",
       "      <td>0.68</td>\n",
       "      <td>9.8</td>\n",
       "      <td>1.609438</td>\n",
       "    </tr>\n",
       "    <tr>\n",
       "      <th>2</th>\n",
       "      <td>7.8</td>\n",
       "      <td>0.760</td>\n",
       "      <td>0.04</td>\n",
       "      <td>2.3</td>\n",
       "      <td>0.092</td>\n",
       "      <td>15.0</td>\n",
       "      <td>54.0</td>\n",
       "      <td>0.99700</td>\n",
       "      <td>3.26</td>\n",
       "      <td>0.65</td>\n",
       "      <td>9.8</td>\n",
       "      <td>1.609438</td>\n",
       "    </tr>\n",
       "    <tr>\n",
       "      <th>3</th>\n",
       "      <td>11.2</td>\n",
       "      <td>0.280</td>\n",
       "      <td>0.56</td>\n",
       "      <td>1.9</td>\n",
       "      <td>0.075</td>\n",
       "      <td>17.0</td>\n",
       "      <td>60.0</td>\n",
       "      <td>0.99800</td>\n",
       "      <td>3.16</td>\n",
       "      <td>0.58</td>\n",
       "      <td>9.8</td>\n",
       "      <td>1.791759</td>\n",
       "    </tr>\n",
       "    <tr>\n",
       "      <th>4</th>\n",
       "      <td>7.4</td>\n",
       "      <td>0.700</td>\n",
       "      <td>0.00</td>\n",
       "      <td>1.9</td>\n",
       "      <td>0.076</td>\n",
       "      <td>11.0</td>\n",
       "      <td>34.0</td>\n",
       "      <td>0.99780</td>\n",
       "      <td>3.51</td>\n",
       "      <td>0.56</td>\n",
       "      <td>9.4</td>\n",
       "      <td>1.609438</td>\n",
       "    </tr>\n",
       "    <tr>\n",
       "      <th>...</th>\n",
       "      <td>...</td>\n",
       "      <td>...</td>\n",
       "      <td>...</td>\n",
       "      <td>...</td>\n",
       "      <td>...</td>\n",
       "      <td>...</td>\n",
       "      <td>...</td>\n",
       "      <td>...</td>\n",
       "      <td>...</td>\n",
       "      <td>...</td>\n",
       "      <td>...</td>\n",
       "      <td>...</td>\n",
       "    </tr>\n",
       "    <tr>\n",
       "      <th>1594</th>\n",
       "      <td>6.2</td>\n",
       "      <td>0.600</td>\n",
       "      <td>0.08</td>\n",
       "      <td>2.0</td>\n",
       "      <td>0.090</td>\n",
       "      <td>32.0</td>\n",
       "      <td>44.0</td>\n",
       "      <td>0.99490</td>\n",
       "      <td>3.45</td>\n",
       "      <td>0.58</td>\n",
       "      <td>10.5</td>\n",
       "      <td>1.609438</td>\n",
       "    </tr>\n",
       "    <tr>\n",
       "      <th>1595</th>\n",
       "      <td>5.9</td>\n",
       "      <td>0.550</td>\n",
       "      <td>0.10</td>\n",
       "      <td>2.2</td>\n",
       "      <td>0.062</td>\n",
       "      <td>39.0</td>\n",
       "      <td>51.0</td>\n",
       "      <td>0.99512</td>\n",
       "      <td>3.52</td>\n",
       "      <td>0.76</td>\n",
       "      <td>11.2</td>\n",
       "      <td>1.791759</td>\n",
       "    </tr>\n",
       "    <tr>\n",
       "      <th>1596</th>\n",
       "      <td>6.3</td>\n",
       "      <td>0.510</td>\n",
       "      <td>0.13</td>\n",
       "      <td>2.3</td>\n",
       "      <td>0.076</td>\n",
       "      <td>29.0</td>\n",
       "      <td>40.0</td>\n",
       "      <td>0.99574</td>\n",
       "      <td>3.42</td>\n",
       "      <td>0.75</td>\n",
       "      <td>11.0</td>\n",
       "      <td>1.791759</td>\n",
       "    </tr>\n",
       "    <tr>\n",
       "      <th>1597</th>\n",
       "      <td>5.9</td>\n",
       "      <td>0.645</td>\n",
       "      <td>0.12</td>\n",
       "      <td>2.0</td>\n",
       "      <td>0.075</td>\n",
       "      <td>32.0</td>\n",
       "      <td>44.0</td>\n",
       "      <td>0.99547</td>\n",
       "      <td>3.57</td>\n",
       "      <td>0.71</td>\n",
       "      <td>10.2</td>\n",
       "      <td>1.609438</td>\n",
       "    </tr>\n",
       "    <tr>\n",
       "      <th>1598</th>\n",
       "      <td>6.0</td>\n",
       "      <td>0.310</td>\n",
       "      <td>0.47</td>\n",
       "      <td>3.6</td>\n",
       "      <td>0.067</td>\n",
       "      <td>18.0</td>\n",
       "      <td>42.0</td>\n",
       "      <td>0.99549</td>\n",
       "      <td>3.39</td>\n",
       "      <td>0.66</td>\n",
       "      <td>11.0</td>\n",
       "      <td>1.791759</td>\n",
       "    </tr>\n",
       "  </tbody>\n",
       "</table>\n",
       "<p>1599 rows × 12 columns</p>\n",
       "</div>"
      ]
     },
     "execution_count": 110,
     "metadata": {},
     "output_type": "execute_result"
    }
   ],
   "execution_count": 110
  },
  {
   "metadata": {},
   "cell_type": "markdown",
   "source": "## Проверка и ликвидация пропусков",
   "id": "67b52a8b7d5a353f"
  },
  {
   "metadata": {
    "ExecuteTime": {
     "end_time": "2024-05-28T15:44:12.975079Z",
     "start_time": "2024-05-28T15:44:12.950430Z"
    }
   },
   "cell_type": "code",
   "source": "db.isnull().sum()",
   "id": "5964fc5567fa9e2c",
   "outputs": [
    {
     "data": {
      "text/plain": [
       "fixed acidity           0\n",
       "volatile acidity        0\n",
       "citric acid             0\n",
       "residual sugar          0\n",
       "chlorides               0\n",
       "free sulfur dioxide     0\n",
       "total sulfur dioxide    0\n",
       "density                 0\n",
       "pH                      0\n",
       "sulphates               0\n",
       "alcohol                 0\n",
       "quality                 0\n",
       "dtype: int64"
      ]
     },
     "execution_count": 111,
     "metadata": {},
     "output_type": "execute_result"
    }
   ],
   "execution_count": 111
  },
  {
   "metadata": {},
   "cell_type": "markdown",
   "source": "Пропусков нет",
   "id": "2f289101462121bc"
  },
  {
   "metadata": {},
   "cell_type": "markdown",
   "source": "## Кодирование категориальных данных",
   "id": "6431ce0f7d421c04"
  },
  {
   "metadata": {
    "ExecuteTime": {
     "end_time": "2024-05-28T15:44:13.037291Z",
     "start_time": "2024-05-28T15:44:12.979610Z"
    }
   },
   "cell_type": "code",
   "source": [
    "from sklearn.preprocessing import LabelEncoder\n",
    "\n",
    "db['fixed acidity'] = LabelEncoder().fit_transform(db['fixed acidity']) \n",
    "db['volatile acidity'] = LabelEncoder().fit_transform(db['volatile acidity']) \n",
    "db['citric acid'] = LabelEncoder().fit_transform(db['citric acid']) \n",
    "db['residual sugar'] = LabelEncoder().fit_transform(db['residual sugar']) \n",
    "db['chlorides'] = LabelEncoder().fit_transform(db['chlorides']) \n",
    "db['free sulfur dioxide'] = LabelEncoder().fit_transform(db['free sulfur dioxide']) \n",
    "db['total sulfur dioxide'] = LabelEncoder().fit_transform(db['total sulfur dioxide']) \n",
    "db['density'] = LabelEncoder().fit_transform(db['density']) \n",
    "db['pH'] = LabelEncoder().fit_transform(db['pH']) \n",
    "db['sulphates'] = LabelEncoder().fit_transform(db['sulphates']) \n",
    "db['alcohol'] = LabelEncoder().fit_transform(db['alcohol'])"
   ],
   "id": "a57d9b09d819e3b1",
   "outputs": [],
   "execution_count": 112
  },
  {
   "metadata": {},
   "cell_type": "markdown",
   "source": "## Разделение выборки на тренировочную и тестовую",
   "id": "1b54647e535162b7"
  },
  {
   "metadata": {
    "ExecuteTime": {
     "end_time": "2024-05-28T15:44:13.067705Z",
     "start_time": "2024-05-28T15:44:13.044841Z"
    }
   },
   "cell_type": "code",
   "source": [
    "X = db.drop(['quality'], axis=1)\n",
    "y = db['quality']\n",
    "\n",
    "X_train, X_test, y_train, y_test = train_test_split(X, y, test_size = 0.2)"
   ],
   "id": "4336d23d95fd73f3",
   "outputs": [],
   "execution_count": 113
  },
  {
   "metadata": {
    "ExecuteTime": {
     "end_time": "2024-05-28T15:44:13.084878Z",
     "start_time": "2024-05-28T15:44:13.073069Z"
    }
   },
   "cell_type": "code",
   "source": [
    "print(\"X_train shape:\", X_train.shape)\n",
    "print(\"X_test shape:\", X_test.shape)\n",
    "print(\"y_train shape:\", y_train.shape)\n",
    "print(\"y_test shape:\", y_test.shape)"
   ],
   "id": "af643d2a1bcb85f1",
   "outputs": [
    {
     "name": "stdout",
     "output_type": "stream",
     "text": [
      "X_train shape: (1279, 11)\n",
      "X_test shape: (320, 11)\n",
      "y_train shape: (1279,)\n",
      "y_test shape: (320,)\n"
     ]
    }
   ],
   "execution_count": 114
  },
  {
   "metadata": {},
   "cell_type": "markdown",
   "source": "## Нормирование численных переменных",
   "id": "8c5ea1cd44e7ef9c"
  },
  {
   "metadata": {
    "ExecuteTime": {
     "end_time": "2024-05-28T15:44:13.119510Z",
     "start_time": "2024-05-28T15:44:13.091421Z"
    }
   },
   "cell_type": "code",
   "source": [
    "from sklearn.preprocessing import MinMaxScaler\n",
    "\n",
    "scaler = MinMaxScaler()\n",
    "\n",
    "X_train = scaler.fit_transform(X_train)\n",
    "X_test = scaler.transform(X_test)"
   ],
   "id": "30319dd000e14bd5",
   "outputs": [],
   "execution_count": 115
  },
  {
   "metadata": {
    "ExecuteTime": {
     "end_time": "2024-05-28T15:44:13.320773Z",
     "start_time": "2024-05-28T15:44:13.310947Z"
    }
   },
   "cell_type": "code",
   "source": [
    "X_train_df = pd.DataFrame(X_train)\n",
    "y_train_df = pd.DataFrame(y_train)\n",
    "X_test_df = pd.DataFrame(X_test)\n",
    "y_test_df = pd.DataFrame(y_test)"
   ],
   "id": "dedda1a7e20848a2",
   "outputs": [],
   "execution_count": 116
  },
  {
   "metadata": {},
   "cell_type": "markdown",
   "source": "# 4. Класс Datasets",
   "id": "138be74e0d6b5b9c"
  },
  {
   "metadata": {
    "ExecuteTime": {
     "end_time": "2024-05-28T15:44:13.783712Z",
     "start_time": "2024-05-28T15:44:13.771556Z"
    }
   },
   "cell_type": "code",
   "source": [
    "import torch\n",
    "from torch.utils.data import Dataset, DataLoader\n",
    "import matplotlib.pyplot as plt\n",
    "from sklearn.model_selection import train_test_split\n",
    "from torchvision.transforms import ToTensor, Normalize, Lambda\n",
    "import copy\n",
    "import datetime as dt\n",
    "import pandas as pd\n",
    "import numpy as np"
   ],
   "id": "fe8fc88002b8f3f6",
   "outputs": [],
   "execution_count": 117
  },
  {
   "metadata": {
    "ExecuteTime": {
     "end_time": "2024-05-28T15:44:14.033002Z",
     "start_time": "2024-05-28T15:44:14.022682Z"
    }
   },
   "cell_type": "code",
   "source": [
    "class CustomDataset(Dataset):\n",
    "    def __init__(self, data, targets):\n",
    "        self.data = data.select_dtypes(include=[np.number])\n",
    "        self.targets = targets\n",
    "\n",
    "    def __len__(self):\n",
    "        return len(self.data)\n",
    "\n",
    "    def __getitem__(self, index):\n",
    "        x = torch.tensor(self.data.iloc[index], dtype=torch.float32)\n",
    "        y = torch.tensor(self.targets.iloc[index], dtype=torch.float32)\n",
    "\n",
    "        return x, y"
   ],
   "id": "773bee4dc0f7afb0",
   "outputs": [],
   "execution_count": 118
  },
  {
   "metadata": {
    "ExecuteTime": {
     "end_time": "2024-05-28T15:44:14.149121Z",
     "start_time": "2024-05-28T15:44:14.137548Z"
    }
   },
   "cell_type": "code",
   "source": [
    "train_dataset = CustomDataset(X_train_df, y_train_df)\n",
    "test_dataset = CustomDataset(X_test_df, y_test_df)"
   ],
   "id": "2777c3dd31304e83",
   "outputs": [],
   "execution_count": 119
  },
  {
   "metadata": {
    "ExecuteTime": {
     "end_time": "2024-05-28T15:44:14.360854Z",
     "start_time": "2024-05-28T15:44:14.351481Z"
    }
   },
   "cell_type": "code",
   "source": [
    "train_loader = DataLoader(train_dataset, batch_size=64, shuffle=True)\n",
    "test_loader = DataLoader(test_dataset, batch_size=64, shuffle=False)"
   ],
   "id": "74cfe71362cedbec",
   "outputs": [],
   "execution_count": 120
  },
  {
   "metadata": {
    "ExecuteTime": {
     "end_time": "2024-05-28T15:44:14.600314Z",
     "start_time": "2024-05-28T15:44:14.544739Z"
    }
   },
   "cell_type": "code",
   "source": [
    "for xb, yb in train_loader:\n",
    "    print(\"inputs:\", xb)\n",
    "    print(\"targets:\", yb)\n",
    "    break"
   ],
   "id": "bec0ce8289b8aa01",
   "outputs": [
    {
     "name": "stdout",
     "output_type": "stream",
     "text": [
      "inputs: tensor([[0.2316, 0.6268, 0.0263, 0.1910, 0.1733, 0.5932, 0.4014, 0.7517, 0.7907,\n",
      "         0.4301, 0.2812],\n",
      "        [0.5263, 0.0986, 0.5263, 0.0449, 0.2400, 0.2373, 0.1056, 0.3954, 0.2907,\n",
      "         0.1398, 0.5000],\n",
      "        [0.6000, 0.0845, 0.7105, 0.2697, 0.4533, 0.0678, 0.0915, 0.8851, 0.4186,\n",
      "         0.2688, 0.1875],\n",
      "        [0.3474, 0.6901, 0.3289, 0.3708, 0.2600, 0.5763, 0.5634, 0.6023, 0.3488,\n",
      "         0.0430, 0.1094],\n",
      "        [0.1895, 0.4366, 0.4342, 0.1011, 0.1467, 0.2712, 0.1549, 0.3471, 0.5465,\n",
      "         0.2796, 0.3438],\n",
      "        [0.2947, 0.2817, 0.2500, 0.1124, 0.2600, 0.1695, 0.2676, 0.4184, 0.5814,\n",
      "         0.1720, 0.2500],\n",
      "        [0.3368, 0.2324, 0.2763, 0.0562, 0.4600, 0.1695, 0.2183, 0.5885, 0.3256,\n",
      "         0.5699, 0.1875],\n",
      "        [0.1368, 0.2887, 0.0000, 0.0337, 0.1333, 0.2542, 0.1408, 0.2161, 0.5465,\n",
      "         0.0753, 0.1875],\n",
      "        [0.3579, 0.6479, 0.3026, 0.2472, 0.1467, 0.0678, 0.0634, 0.6598, 0.5581,\n",
      "         0.1935, 0.5781],\n",
      "        [0.0316, 0.9366, 0.3158, 0.0562, 0.0867, 0.5424, 0.6408, 0.0989, 0.9535,\n",
      "         0.2581, 0.6094],\n",
      "        [0.2842, 0.1620, 0.3947, 0.1011, 0.2467, 0.2881, 0.1268, 0.1885, 0.4070,\n",
      "         0.3441, 0.5938],\n",
      "        [0.2526, 0.2324, 0.5526, 0.6517, 0.2200, 0.4915, 0.8380, 0.7172, 0.6163,\n",
      "         0.3656, 0.4062],\n",
      "        [0.4526, 0.6549, 0.3158, 0.0787, 0.2733, 0.1695, 0.1056, 0.6437, 0.4651,\n",
      "         0.3118, 0.3125],\n",
      "        [0.4421, 0.0915, 0.4605, 0.1124, 0.2000, 0.4237, 0.3592, 0.6598, 0.3372,\n",
      "         0.9462, 0.3750],\n",
      "        [0.4421, 0.2746, 0.6974, 0.4719, 0.4267, 0.0339, 0.0282, 0.4483, 0.3721,\n",
      "         0.2258, 0.7188],\n",
      "        [0.4000, 0.4789, 0.2632, 0.1461, 0.4000, 0.3898, 0.7465, 0.7218, 0.2791,\n",
      "         0.1075, 0.1094],\n",
      "        [0.3263, 0.3099, 0.0132, 0.0562, 0.2667, 0.0339, 0.0915, 0.2920, 0.3140,\n",
      "         0.0860, 0.2656],\n",
      "        [0.2316, 0.3169, 0.0526, 0.3258, 0.2667, 0.1186, 0.1479, 0.8805, 0.9070,\n",
      "         0.5699, 0.1719],\n",
      "        [0.4421, 0.0000, 0.5921, 0.1011, 0.2533, 0.1695, 0.1056, 0.3862, 0.6047,\n",
      "         0.4086, 0.6719],\n",
      "        [0.4105, 0.2606, 0.6184, 0.2135, 0.2467, 0.1186, 0.1620, 0.8046, 0.2209,\n",
      "         0.0860, 0.1875],\n",
      "        [0.2421, 0.2042, 0.4211, 0.4045, 0.1600, 0.1525, 0.1620, 0.1816, 0.4535,\n",
      "         0.1183, 0.5781],\n",
      "        [0.2105, 0.4507, 0.3026, 0.1461, 0.2867, 0.1864, 0.7746, 0.3586, 0.5465,\n",
      "         0.3441, 0.5000],\n",
      "        [0.2211, 0.6901, 0.0658, 0.1236, 0.2200, 0.1017, 0.0563, 0.4046, 0.7209,\n",
      "         0.3011, 0.4844],\n",
      "        [0.2526, 0.6056, 0.0132, 0.1685, 0.1467, 0.1864, 0.0845, 0.0437, 0.5814,\n",
      "         0.0323, 0.8281],\n",
      "        [0.4947, 0.2113, 0.6316, 0.5506, 0.2333, 0.1695, 0.0986, 0.7172, 0.5233,\n",
      "         0.4409, 0.7344],\n",
      "        [0.6000, 0.1831, 0.6053, 0.1461, 0.4467, 0.1017, 0.0282, 0.5931, 0.2674,\n",
      "         0.2903, 0.6562],\n",
      "        [0.1579, 0.1620, 0.3158, 0.1685, 0.3867, 0.3220, 0.2535, 0.2299, 0.7907,\n",
      "         0.2043, 0.6406],\n",
      "        [0.6211, 0.9155, 0.5658, 0.3034, 0.2600, 0.4407, 0.5845, 0.8552, 0.2209,\n",
      "         0.2043, 0.3438],\n",
      "        [0.2947, 0.3028, 0.1447, 0.0449, 0.2800, 0.1864, 0.2324, 0.6230, 0.6163,\n",
      "         0.2151, 0.2344],\n",
      "        [0.4526, 0.2465, 0.6447, 0.2472, 0.3133, 0.3559, 0.4859, 0.8805, 0.5349,\n",
      "         0.2043, 0.2500],\n",
      "        [0.1579, 0.3662, 0.0000, 0.0562, 0.1867, 0.1356, 0.0845, 0.5885, 0.7791,\n",
      "         0.4946, 0.1719],\n",
      "        [0.3263, 0.7746, 0.3421, 0.4494, 0.4667, 0.5254, 0.4296, 0.6023, 0.4302,\n",
      "         0.0860, 0.1094],\n",
      "        [0.7263, 0.2113, 0.7632, 0.2809, 0.3933, 0.4237, 0.6690, 0.9609, 0.2791,\n",
      "         0.1613, 0.3125],\n",
      "        [0.7579, 0.1901, 0.9079, 0.2809, 0.3867, 0.2881, 0.2042, 0.9241, 0.2442,\n",
      "         0.2473, 0.4844],\n",
      "        [0.5368, 0.2394, 0.6184, 0.2247, 0.1733, 0.1525, 0.1549, 0.8230, 0.4070,\n",
      "         0.2903, 0.4844],\n",
      "        [0.2737, 0.3732, 0.2368, 0.2135, 0.2733, 0.2542, 0.3803, 0.5448, 0.4884,\n",
      "         0.1720, 0.2656],\n",
      "        [0.2211, 0.3803, 0.1316, 0.0787, 0.1733, 0.5763, 0.3310, 0.4368, 0.6047,\n",
      "         0.3118, 0.2500],\n",
      "        [0.4526, 0.6761, 0.1579, 0.2135, 0.3067, 0.1356, 0.1549, 0.8529, 0.5116,\n",
      "         0.2903, 0.3906],\n",
      "        [0.4105, 0.1408, 0.5263, 0.2472, 0.3067, 0.2712, 0.4366, 0.7885, 0.4767,\n",
      "         0.1075, 0.1719],\n",
      "        [0.3368, 0.2324, 0.2763, 0.0562, 0.4600, 0.1695, 0.2183, 0.5885, 0.3256,\n",
      "         0.5699, 0.1875],\n",
      "        [0.3263, 0.2394, 0.3684, 0.2697, 0.4200, 0.3051, 0.6338, 0.5885, 0.3837,\n",
      "         0.3118, 0.1719],\n",
      "        [0.7263, 0.2254, 0.6974, 0.3596, 0.4533, 0.5593, 0.6479, 0.9747, 0.3605,\n",
      "         0.6129, 0.1094],\n",
      "        [0.2421, 0.3944, 0.3947, 0.5393, 0.2067, 0.3390, 0.7254, 0.9011, 0.4767,\n",
      "         0.8495, 0.3594],\n",
      "        [0.5474, 0.3169, 0.5921, 0.1910, 0.2267, 0.2712, 0.2394, 0.8989, 0.5814,\n",
      "         0.2581, 0.1719],\n",
      "        [0.6211, 0.1620, 0.7500, 0.1910, 0.3333, 0.1017, 0.0986, 0.6161, 0.2907,\n",
      "         0.3656, 0.5469],\n",
      "        [0.3789, 0.1056, 0.6447, 0.4494, 0.3533, 0.1864, 0.1268, 0.2874, 0.4419,\n",
      "         0.2796, 0.7188],\n",
      "        [0.2316, 0.3028, 0.3289, 0.2472, 0.2933, 0.1695, 0.2183, 0.6322, 0.6628,\n",
      "         0.1290, 0.5156],\n",
      "        [0.7684, 0.1831, 0.7368, 0.1461, 0.3733, 0.1017, 0.1268, 0.9126, 0.2907,\n",
      "         0.3548, 0.5000],\n",
      "        [0.8211, 0.2535, 0.6447, 0.5393, 0.2200, 0.4407, 0.3028, 0.8230, 0.1860,\n",
      "         0.2043, 0.2344],\n",
      "        [0.4421, 0.3803, 0.5132, 0.1910, 0.3867, 0.0678, 0.1127, 0.8736, 0.5581,\n",
      "         0.2151, 0.3750],\n",
      "        [0.3789, 0.3944, 0.3289, 0.1685, 0.5400, 0.1525, 0.2254, 0.5011, 0.3023,\n",
      "         0.1613, 0.2656],\n",
      "        [0.8526, 0.7324, 0.8289, 0.2135, 0.3400, 0.2203, 0.2042, 0.9333, 0.2442,\n",
      "         0.2366, 0.3906],\n",
      "        [0.7053, 0.0704, 0.5789, 0.4045, 0.2267, 0.1017, 0.0915, 0.8736, 0.2674,\n",
      "         0.4731, 0.1562],\n",
      "        [0.2000, 0.7324, 0.0395, 0.1910, 0.1467, 0.5424, 0.2958, 0.3241, 0.7326,\n",
      "         0.1935, 0.7500],\n",
      "        [0.7263, 0.0493, 0.7500, 0.1011, 0.2467, 0.0339, 0.0141, 0.8230, 0.2907,\n",
      "         0.3441, 0.2812],\n",
      "        [0.6421, 0.0915, 0.5526, 0.0562, 0.3133, 0.3220, 0.1479, 0.3724, 0.4535,\n",
      "         0.3763, 0.6719],\n",
      "        [0.4526, 0.2042, 0.5395, 0.1236, 0.1400, 0.2542, 0.2394, 0.1793, 0.3837,\n",
      "         0.2366, 0.7344],\n",
      "        [0.4421, 0.2887, 0.2763, 0.1685, 0.3400, 0.3559, 0.2324, 0.6437, 0.5116,\n",
      "         0.4839, 0.5469],\n",
      "        [0.7368, 0.2465, 0.8289, 0.1685, 0.2400, 0.1186, 0.1197, 0.9356, 0.3721,\n",
      "         0.3333, 0.5000],\n",
      "        [0.4000, 0.1761, 0.2632, 0.2809, 0.3533, 0.3051, 0.3662, 0.8138, 0.5233,\n",
      "         0.3441, 0.2344],\n",
      "        [0.6526, 0.3099, 0.6447, 0.5506, 0.5400, 0.1695, 0.0775, 0.9586, 0.2093,\n",
      "         0.1935, 0.6406],\n",
      "        [0.2842, 0.3310, 0.2500, 0.1011, 0.3000, 0.2542, 0.1972, 0.5793, 0.6977,\n",
      "         0.3226, 0.4062],\n",
      "        [0.7158, 0.3803, 0.7763, 0.2472, 0.3333, 0.2203, 0.3028, 0.8851, 0.3372,\n",
      "         0.2903, 0.5156],\n",
      "        [0.0000, 0.3028, 0.1974, 0.1461, 0.1133, 0.1356, 0.4155, 0.0989, 1.0000,\n",
      "         0.1935, 0.8750]])\n",
      "targets: tensor([[1.6094],\n",
      "        [1.7918],\n",
      "        [1.6094],\n",
      "        [1.6094],\n",
      "        [1.7918],\n",
      "        [1.6094],\n",
      "        [1.6094],\n",
      "        [1.6094],\n",
      "        [1.6094],\n",
      "        [1.6094],\n",
      "        [2.0794],\n",
      "        [1.6094],\n",
      "        [1.6094],\n",
      "        [1.7918],\n",
      "        [1.9459],\n",
      "        [1.6094],\n",
      "        [1.6094],\n",
      "        [1.7918],\n",
      "        [1.9459],\n",
      "        [1.6094],\n",
      "        [1.9459],\n",
      "        [1.6094],\n",
      "        [1.7918],\n",
      "        [1.7918],\n",
      "        [1.9459],\n",
      "        [1.9459],\n",
      "        [1.7918],\n",
      "        [1.7918],\n",
      "        [1.6094],\n",
      "        [1.6094],\n",
      "        [1.6094],\n",
      "        [1.6094],\n",
      "        [1.6094],\n",
      "        [1.7918],\n",
      "        [1.7918],\n",
      "        [1.6094],\n",
      "        [1.6094],\n",
      "        [1.7918],\n",
      "        [1.6094],\n",
      "        [1.6094],\n",
      "        [1.6094],\n",
      "        [1.6094],\n",
      "        [1.6094],\n",
      "        [1.6094],\n",
      "        [1.9459],\n",
      "        [1.9459],\n",
      "        [1.6094],\n",
      "        [1.7918],\n",
      "        [1.3863],\n",
      "        [1.6094],\n",
      "        [1.6094],\n",
      "        [1.7918],\n",
      "        [1.7918],\n",
      "        [1.9459],\n",
      "        [1.7918],\n",
      "        [1.7918],\n",
      "        [1.7918],\n",
      "        [1.7918],\n",
      "        [1.7918],\n",
      "        [1.7918],\n",
      "        [1.7918],\n",
      "        [1.6094],\n",
      "        [1.7918],\n",
      "        [1.3863]])\n"
     ]
    },
    {
     "name": "stderr",
     "output_type": "stream",
     "text": [
      "C:\\Users\\Takur\\AppData\\Local\\Temp\\ipykernel_10960\\2088720507.py:11: FutureWarning: Series.__getitem__ treating keys as positions is deprecated. In a future version, integer keys will always be treated as labels (consistent with DataFrame behavior). To access a value by position, use `ser.iloc[pos]`\n",
      "  y = torch.tensor(self.targets.iloc[index], dtype=torch.float32)\n"
     ]
    }
   ],
   "execution_count": 121
  },
  {
   "metadata": {},
   "cell_type": "markdown",
   "source": "# 5. Обучение на тренировочном множестве",
   "id": "6c508cdcd23c0221"
  },
  {
   "metadata": {
    "ExecuteTime": {
     "end_time": "2024-05-28T15:44:14.670088Z",
     "start_time": "2024-05-28T15:44:14.662499Z"
    }
   },
   "cell_type": "code",
   "source": "from torch import nn",
   "id": "47deb5b599bdc733",
   "outputs": [],
   "execution_count": 122
  },
  {
   "metadata": {},
   "cell_type": "markdown",
   "source": "## Однослойная нейросеть",
   "id": "22646472efc48dec"
  },
  {
   "metadata": {
    "ExecuteTime": {
     "end_time": "2024-05-28T15:47:48.147368Z",
     "start_time": "2024-05-28T15:47:48.139842Z"
    }
   },
   "cell_type": "code",
   "source": [
    "input_size = 11\n",
    "output_size = 1\n",
    "learning_rate = 1e-2"
   ],
   "id": "a21c13be2a70ad90",
   "outputs": [],
   "execution_count": 130
  },
  {
   "metadata": {
    "ExecuteTime": {
     "end_time": "2024-05-28T15:47:50.761588Z",
     "start_time": "2024-05-28T15:47:50.754862Z"
    }
   },
   "cell_type": "code",
   "source": "first_model = nn.Linear(input_size, output_size)",
   "id": "c6bb67627e244fd0",
   "outputs": [],
   "execution_count": 131
  },
  {
   "metadata": {
    "ExecuteTime": {
     "end_time": "2024-05-28T15:47:51.306045Z",
     "start_time": "2024-05-28T15:47:51.300427Z"
    }
   },
   "cell_type": "code",
   "source": [
    "loss_fn1 = nn.MSELoss()\n",
    "first_optimizer =  torch.optim.SGD(first_model.parameters(), lr=learning_rate)"
   ],
   "id": "225d737032997d54",
   "outputs": [],
   "execution_count": 132
  },
  {
   "metadata": {
    "ExecuteTime": {
     "end_time": "2024-05-28T15:47:51.787299Z",
     "start_time": "2024-05-28T15:47:51.778786Z"
    }
   },
   "cell_type": "code",
   "source": "first_model.train()",
   "id": "f882f99c0a868116",
   "outputs": [
    {
     "data": {
      "text/plain": [
       "Linear(in_features=11, out_features=1, bias=True)"
      ]
     },
     "execution_count": 133,
     "metadata": {},
     "output_type": "execute_result"
    }
   ],
   "execution_count": 133
  },
  {
   "metadata": {
    "ExecuteTime": {
     "end_time": "2024-05-28T15:47:52.389606Z",
     "start_time": "2024-05-28T15:47:52.384091Z"
    }
   },
   "cell_type": "code",
   "source": "num_epochs = 25",
   "id": "755f3f00b0ee2b97",
   "outputs": [],
   "execution_count": 134
  },
  {
   "metadata": {
    "ExecuteTime": {
     "end_time": "2024-05-28T15:47:52.918003Z",
     "start_time": "2024-05-28T15:47:52.912213Z"
    }
   },
   "cell_type": "code",
   "source": [
    "train_losses = []\n",
    "test_losses = []"
   ],
   "id": "8d627b035a7e96fc",
   "outputs": [],
   "execution_count": 135
  },
  {
   "metadata": {
    "ExecuteTime": {
     "end_time": "2024-05-28T15:48:05.696197Z",
     "start_time": "2024-05-28T15:47:53.628012Z"
    }
   },
   "cell_type": "code",
   "source": [
    "def calculate_loss(model, loss_fn, data_loader):\n",
    "    total_loss = 0.0\n",
    "    total_samples = 0\n",
    "    with torch.no_grad():\n",
    "        for inputs, targets in data_loader:\n",
    "            outputs = model(inputs)\n",
    "            loss = loss_fn(outputs, targets)\n",
    "            total_loss += loss.item() * inputs.size(0)\n",
    "            total_samples += inputs.size(0)\n",
    "    return total_loss / total_samples\n",
    "\n",
    "for epoch in range(num_epochs):\n",
    "    train_loss = 0.0\n",
    "    for inputs, targets in train_loader:\n",
    "        first_optimizer.zero_grad()\n",
    "        outputs = first_model(inputs)\n",
    "        loss = loss_fn1(outputs, targets)\n",
    "        loss.backward()\n",
    "        first_optimizer.step()\n",
    "        train_loss += loss.item() * inputs.size(0)\n",
    "    train_loss /= len(train_loader.dataset)\n",
    "    train_losses.append(train_loss)\n",
    "\n",
    "    first_model.eval()\n",
    "    test_loss = calculate_loss(first_model, loss_fn1, test_loader)\n",
    "    test_losses.append(test_loss)\n",
    "\n",
    "    print(f'Epoch {epoch+1}/{num_epochs}, Train Loss: {train_loss:.4f}, Test Loss: {test_loss:.4f}')"
   ],
   "id": "9c915669f7df9e18",
   "outputs": [
    {
     "name": "stderr",
     "output_type": "stream",
     "text": [
      "C:\\Users\\Takur\\AppData\\Local\\Temp\\ipykernel_10960\\2088720507.py:11: FutureWarning: Series.__getitem__ treating keys as positions is deprecated. In a future version, integer keys will always be treated as labels (consistent with DataFrame behavior). To access a value by position, use `ser.iloc[pos]`\n",
      "  y = torch.tensor(self.targets.iloc[index], dtype=torch.float32)\n"
     ]
    },
    {
     "name": "stdout",
     "output_type": "stream",
     "text": [
      "Epoch 1/25, Train Loss: 1.0700, Test Loss: 0.3282\n",
      "Epoch 2/25, Train Loss: 0.1702, Test Loss: 0.0746\n",
      "Epoch 3/25, Train Loss: 0.0551, Test Loss: 0.0431\n",
      "Epoch 4/25, Train Loss: 0.0395, Test Loss: 0.0389\n",
      "Epoch 5/25, Train Loss: 0.0366, Test Loss: 0.0377\n",
      "Epoch 6/25, Train Loss: 0.0355, Test Loss: 0.0368\n",
      "Epoch 7/25, Train Loss: 0.0346, Test Loss: 0.0359\n",
      "Epoch 8/25, Train Loss: 0.0338, Test Loss: 0.0352\n",
      "Epoch 9/25, Train Loss: 0.0330, Test Loss: 0.0345\n",
      "Epoch 10/25, Train Loss: 0.0324, Test Loss: 0.0338\n",
      "Epoch 11/25, Train Loss: 0.0317, Test Loss: 0.0332\n",
      "Epoch 12/25, Train Loss: 0.0312, Test Loss: 0.0326\n",
      "Epoch 13/25, Train Loss: 0.0307, Test Loss: 0.0321\n",
      "Epoch 14/25, Train Loss: 0.0301, Test Loss: 0.0315\n",
      "Epoch 15/25, Train Loss: 0.0297, Test Loss: 0.0311\n",
      "Epoch 16/25, Train Loss: 0.0293, Test Loss: 0.0307\n",
      "Epoch 17/25, Train Loss: 0.0289, Test Loss: 0.0303\n",
      "Epoch 18/25, Train Loss: 0.0285, Test Loss: 0.0299\n",
      "Epoch 19/25, Train Loss: 0.0282, Test Loss: 0.0296\n",
      "Epoch 20/25, Train Loss: 0.0278, Test Loss: 0.0293\n",
      "Epoch 21/25, Train Loss: 0.0276, Test Loss: 0.0289\n",
      "Epoch 22/25, Train Loss: 0.0273, Test Loss: 0.0287\n",
      "Epoch 23/25, Train Loss: 0.0270, Test Loss: 0.0284\n",
      "Epoch 24/25, Train Loss: 0.0268, Test Loss: 0.0282\n",
      "Epoch 25/25, Train Loss: 0.0265, Test Loss: 0.0279\n"
     ]
    }
   ],
   "execution_count": 136
  },
  {
   "metadata": {},
   "cell_type": "markdown",
   "source": "Значение Test Loss (0.0279) значительно ниже, чем Train Loss (0.0265). Это указывает на то, что модель хорошо обобщает данные и показывает отличные результаты на новых данных (тестовых данных). Такие результаты могут свидетельствовать о том, что модель корректно обучена и способна эффективно работать на новых данных, что является очень хорошим показателем качества модели.",
   "id": "6326397a121c1ae0"
  },
  {
   "metadata": {
    "ExecuteTime": {
     "end_time": "2024-05-28T15:53:51.695151Z",
     "start_time": "2024-05-28T15:53:51.293841Z"
    }
   },
   "cell_type": "code",
   "source": [
    "epochs = range(1, num_epochs + 1)\n",
    "\n",
    "plt.plot(epochs, train_losses, label='Train Loss') \n",
    "plt.plot(epochs, test_losses, label='Test Loss') \n",
    "plt.xlabel('Epoch') \n",
    "plt.ylabel('Loss') \n",
    "plt.title('Learning Curve') \n",
    "plt.legend() \n",
    "plt.show()"
   ],
   "id": "ac0c75aabdf1fa6e",
   "outputs": [
    {
     "data": {
      "text/plain": [
       "<Figure size 640x480 with 1 Axes>"
      ],
      "image/png": "[encoded data removed]"
     },
     "metadata": {},
     "output_type": "display_data"
    }
   ],
   "execution_count": 142
  },
  {
   "metadata": {},
   "cell_type": "markdown",
   "source": "## Нейросеть с одним скрытым слоем",
   "id": "6afa58117fdbc4b8"
  },
  {
   "metadata": {
    "ExecuteTime": {
     "end_time": "2024-05-28T15:54:08.165857Z",
     "start_time": "2024-05-28T15:54:08.160223Z"
    }
   },
   "cell_type": "code",
   "source": "hidden_size = 4",
   "id": "a5e4039605d34ece",
   "outputs": [],
   "execution_count": 143
  },
  {
   "metadata": {
    "ExecuteTime": {
     "end_time": "2024-05-28T15:54:14.244248Z",
     "start_time": "2024-05-28T15:54:14.235730Z"
    }
   },
   "cell_type": "code",
   "source": [
    "second_model = nn.Sequential()\n",
    "second_model.add_module(\"first\", nn.Linear(input_size, hidden_size))\n",
    "second_model.add_module(\"first_activation\", nn.Sigmoid())\n",
    "second_model.add_module(\"second\", nn.Linear(hidden_size, output_size))"
   ],
   "id": "e87446f8959d6c96",
   "outputs": [],
   "execution_count": 144
  },
  {
   "metadata": {
    "ExecuteTime": {
     "end_time": "2024-05-28T15:54:19.678027Z",
     "start_time": "2024-05-28T15:54:19.666478Z"
    }
   },
   "cell_type": "code",
   "source": [
    "loss_fn2 = nn.MSELoss()\n",
    "second_optimizer = torch.optim.Adam(second_model.parameters(), lr=learning_rate)\n",
    "second_model.train()"
   ],
   "id": "fce29b038b19f87f",
   "outputs": [
    {
     "data": {
      "text/plain": [
       "Sequential(\n",
       "  (first): Linear(in_features=11, out_features=4, bias=True)\n",
       "  (first_activation): Sigmoid()\n",
       "  (second): Linear(in_features=4, out_features=1, bias=True)\n",
       ")"
      ]
     },
     "execution_count": 145,
     "metadata": {},
     "output_type": "execute_result"
    }
   ],
   "execution_count": 145
  },
  {
   "metadata": {
    "ExecuteTime": {
     "end_time": "2024-05-28T15:54:36.755101Z",
     "start_time": "2024-05-28T15:54:36.749639Z"
    }
   },
   "cell_type": "code",
   "source": [
    "train_losses = []\n",
    "test_losses = []"
   ],
   "id": "af9b6aef30e42422",
   "outputs": [],
   "execution_count": 146
  },
  {
   "metadata": {
    "ExecuteTime": {
     "end_time": "2024-05-28T15:55:06.050229Z",
     "start_time": "2024-05-28T15:54:43.074902Z"
    }
   },
   "cell_type": "code",
   "source": [
    "def calculate_loss(model, loss_fn, data_loader):\n",
    "    total_loss = 0.0\n",
    "    total_samples = 0\n",
    "    with torch.no_grad():\n",
    "        for inputs, targets in data_loader:\n",
    "            outputs = model(inputs)\n",
    "            loss = loss_fn(outputs, targets)\n",
    "            total_loss += loss.item() * inputs.size(0)\n",
    "            total_samples += inputs.size(0)\n",
    "    return total_loss / total_samples\n",
    "\n",
    "for epoch in range(num_epochs):\n",
    "    train_loss = 0.0\n",
    "    for inputs, targets in train_loader:\n",
    "        second_optimizer.zero_grad()\n",
    "        outputs = second_model(inputs)\n",
    "        loss = loss_fn2(outputs, targets)\n",
    "        loss.backward()\n",
    "        second_optimizer.step()\n",
    "        train_loss += loss.item() * inputs.size(0)\n",
    "    train_loss /= len(train_loader.dataset)\n",
    "    train_losses.append(train_loss)\n",
    "\n",
    "    first_model.eval()\n",
    "    test_loss = calculate_loss(second_model, loss_fn2, test_loader)\n",
    "    test_losses.append(test_loss)\n",
    "\n",
    "    print(f'Epoch {epoch+1}/{num_epochs}, Train Loss: {train_loss:.4f}, Test Loss: {test_loss:.4f}')"
   ],
   "id": "80a4cb1a4799af21",
   "outputs": [
    {
     "name": "stderr",
     "output_type": "stream",
     "text": [
      "C:\\Users\\Takur\\AppData\\Local\\Temp\\ipykernel_10960\\2088720507.py:11: FutureWarning: Series.__getitem__ treating keys as positions is deprecated. In a future version, integer keys will always be treated as labels (consistent with DataFrame behavior). To access a value by position, use `ser.iloc[pos]`\n",
      "  y = torch.tensor(self.targets.iloc[index], dtype=torch.float32)\n"
     ]
    },
    {
     "name": "stdout",
     "output_type": "stream",
     "text": [
      "Epoch 1/25, Train Loss: 0.3537, Test Loss: 0.0303\n",
      "Epoch 2/25, Train Loss: 0.0347, Test Loss: 0.0345\n",
      "Epoch 3/25, Train Loss: 0.0260, Test Loss: 0.0244\n",
      "Epoch 4/25, Train Loss: 0.0232, Test Loss: 0.0227\n",
      "Epoch 5/25, Train Loss: 0.0220, Test Loss: 0.0218\n",
      "Epoch 6/25, Train Loss: 0.0211, Test Loss: 0.0211\n",
      "Epoch 7/25, Train Loss: 0.0203, Test Loss: 0.0203\n",
      "Epoch 8/25, Train Loss: 0.0195, Test Loss: 0.0196\n",
      "Epoch 9/25, Train Loss: 0.0188, Test Loss: 0.0189\n",
      "Epoch 10/25, Train Loss: 0.0181, Test Loss: 0.0183\n",
      "Epoch 11/25, Train Loss: 0.0173, Test Loss: 0.0178\n",
      "Epoch 12/25, Train Loss: 0.0167, Test Loss: 0.0173\n",
      "Epoch 13/25, Train Loss: 0.0162, Test Loss: 0.0169\n",
      "Epoch 14/25, Train Loss: 0.0158, Test Loss: 0.0167\n",
      "Epoch 15/25, Train Loss: 0.0157, Test Loss: 0.0164\n",
      "Epoch 16/25, Train Loss: 0.0152, Test Loss: 0.0163\n",
      "Epoch 17/25, Train Loss: 0.0150, Test Loss: 0.0161\n",
      "Epoch 18/25, Train Loss: 0.0148, Test Loss: 0.0161\n",
      "Epoch 19/25, Train Loss: 0.0147, Test Loss: 0.0160\n",
      "Epoch 20/25, Train Loss: 0.0146, Test Loss: 0.0160\n",
      "Epoch 21/25, Train Loss: 0.0146, Test Loss: 0.0159\n",
      "Epoch 22/25, Train Loss: 0.0144, Test Loss: 0.0158\n",
      "Epoch 23/25, Train Loss: 0.0143, Test Loss: 0.0158\n",
      "Epoch 24/25, Train Loss: 0.0143, Test Loss: 0.0158\n",
      "Epoch 25/25, Train Loss: 0.0143, Test Loss: 0.0158\n"
     ]
    }
   ],
   "execution_count": 147
  },
  {
   "metadata": {},
   "cell_type": "markdown",
   "source": "В данном случае, значения Train Loss и Test Loss очень близки друг к другу. Это может указывать на то, что модель не переобучена (так как ошибка на тренировочных данных не сильно ниже, чем на тестовых данных), но также значение loss близко к нулю, это указывает на то, что модель хорошо справляется с задачей. ",
   "id": "74af22e15f5dd439"
  },
  {
   "metadata": {
    "ExecuteTime": {
     "end_time": "2024-05-28T15:55:59.166520Z",
     "start_time": "2024-05-28T15:55:58.715150Z"
    }
   },
   "cell_type": "code",
   "source": [
    "epochs = range(1, num_epochs + 1)\n",
    "\n",
    "plt.plot(epochs, train_losses, label='Train Loss') \n",
    "plt.plot(epochs, test_losses, label='Test Loss') \n",
    "plt.xlabel('Epoch') \n",
    "plt.ylabel('Loss') \n",
    "plt.title('Learning Curve') \n",
    "plt.legend() \n",
    "plt.show()"
   ],
   "id": "acebdf68608149f2",
   "outputs": [
    {
     "data": {
      "text/plain": [
       "<Figure size 640x480 with 1 Axes>"
      ],
      "image/png": "[encoded data removed]"
     },
     "metadata": {},
     "output_type": "display_data"
    }
   ],
   "execution_count": 148
  },
  {
   "metadata": {},
   "cell_type": "markdown",
   "source": "## Нейросеть с тремя скрытыми слоями",
   "id": "a2a27a927c040b1a"
  },
  {
   "metadata": {
    "ExecuteTime": {
     "end_time": "2024-05-28T15:56:30.118769Z",
     "start_time": "2024-05-28T15:56:30.113349Z"
    }
   },
   "cell_type": "code",
   "source": [
    "hidden_size1 = 5\n",
    "hidden_size2 = 4\n",
    "hidden_size3 = 2"
   ],
   "id": "61c15fa42279fec8",
   "outputs": [],
   "execution_count": 149
  },
  {
   "metadata": {
    "ExecuteTime": {
     "end_time": "2024-05-28T15:56:31.963554Z",
     "start_time": "2024-05-28T15:56:31.953569Z"
    }
   },
   "cell_type": "code",
   "source": [
    "third_model = nn.Sequential()\n",
    "third_model.add_module(\"first\", nn.Linear(input_size, hidden_size1))\n",
    "third_model.add_module(\"first_activation\", nn.Sigmoid())\n",
    "third_model.add_module(\"second\", nn.Linear(hidden_size1, hidden_size2))\n",
    "third_model.add_module(\"second_activation\", nn.Sigmoid())\n",
    "third_model.add_module(\"third\", nn.Linear(hidden_size2, hidden_size3))\n",
    "third_model.add_module(\"third_activation\", nn.Sigmoid())\n",
    "third_model.add_module(\"fourth\", nn.Linear(hidden_size3, output_size))"
   ],
   "id": "759b1cc316ec9afb",
   "outputs": [],
   "execution_count": 150
  },
  {
   "metadata": {
    "ExecuteTime": {
     "end_time": "2024-05-28T15:56:39.200240Z",
     "start_time": "2024-05-28T15:56:39.190118Z"
    }
   },
   "cell_type": "code",
   "source": [
    "loss_fn3 = nn.MSELoss()\n",
    "third_optimizer = torch.optim.Adam(third_model.parameters(), lr=learning_rate)\n",
    "third_model.train()"
   ],
   "id": "4a9cb2f846039259",
   "outputs": [
    {
     "data": {
      "text/plain": [
       "Sequential(\n",
       "  (first): Linear(in_features=11, out_features=5, bias=True)\n",
       "  (first_activation): Sigmoid()\n",
       "  (second): Linear(in_features=5, out_features=4, bias=True)\n",
       "  (second_activation): Sigmoid()\n",
       "  (third): Linear(in_features=4, out_features=2, bias=True)\n",
       "  (third_activation): Sigmoid()\n",
       "  (fourth): Linear(in_features=2, out_features=1, bias=True)\n",
       ")"
      ]
     },
     "execution_count": 151,
     "metadata": {},
     "output_type": "execute_result"
    }
   ],
   "execution_count": 151
  },
  {
   "metadata": {
    "ExecuteTime": {
     "end_time": "2024-05-28T15:56:45.746797Z",
     "start_time": "2024-05-28T15:56:45.740268Z"
    }
   },
   "cell_type": "code",
   "source": [
    "train_losses = []\n",
    "test_losses = []"
   ],
   "id": "8f6553507d840c18",
   "outputs": [],
   "execution_count": 152
  },
  {
   "metadata": {
    "ExecuteTime": {
     "end_time": "2024-05-28T15:57:12.560795Z",
     "start_time": "2024-05-28T15:56:50.965578Z"
    }
   },
   "cell_type": "code",
   "source": [
    "def calculate_loss(model, loss_fn, data_loader):\n",
    "    total_loss = 0.0\n",
    "    total_samples = 0\n",
    "    with torch.no_grad():\n",
    "        for inputs, targets in data_loader:\n",
    "            outputs = model(inputs)\n",
    "            loss = loss_fn(outputs, targets)\n",
    "            total_loss += loss.item() * inputs.size(0)\n",
    "            total_samples += inputs.size(0)\n",
    "    return total_loss / total_samples\n",
    "\n",
    "for epoch in range(num_epochs):\n",
    "    train_loss = 0.0\n",
    "    for inputs, targets in train_loader:\n",
    "        third_optimizer.zero_grad()\n",
    "        outputs = third_model(inputs)\n",
    "        loss = loss_fn3(outputs, targets)\n",
    "        loss.backward()\n",
    "        third_optimizer.step()\n",
    "        train_loss += loss.item() * inputs.size(0)\n",
    "    train_loss /= len(train_loader.dataset)\n",
    "    train_losses.append(train_loss)\n",
    "\n",
    "    first_model.eval()\n",
    "    test_loss = calculate_loss(third_model, loss_fn3, test_loader)\n",
    "    test_losses.append(test_loss)\n",
    "\n",
    "    print(f'Epoch {epoch+1}/{num_epochs}, Train Loss: {train_loss:.4f}, Test Loss: {test_loss:.4f}')"
   ],
   "id": "a3d9a1759227fcd9",
   "outputs": [
    {
     "name": "stderr",
     "output_type": "stream",
     "text": [
      "C:\\Users\\Takur\\AppData\\Local\\Temp\\ipykernel_10960\\2088720507.py:11: FutureWarning: Series.__getitem__ treating keys as positions is deprecated. In a future version, integer keys will always be treated as labels (consistent with DataFrame behavior). To access a value by position, use `ser.iloc[pos]`\n",
      "  y = torch.tensor(self.targets.iloc[index], dtype=torch.float32)\n"
     ]
    },
    {
     "name": "stdout",
     "output_type": "stream",
     "text": [
      "Epoch 1/25, Train Loss: 1.5416, Test Loss: 1.1015\n",
      "Epoch 2/25, Train Loss: 0.8090, Test Loss: 0.5302\n",
      "Epoch 3/25, Train Loss: 0.3253, Test Loss: 0.1442\n",
      "Epoch 4/25, Train Loss: 0.0641, Test Loss: 0.0232\n",
      "Epoch 5/25, Train Loss: 0.0218, Test Loss: 0.0225\n",
      "Epoch 6/25, Train Loss: 0.0219, Test Loss: 0.0212\n",
      "Epoch 7/25, Train Loss: 0.0212, Test Loss: 0.0212\n",
      "Epoch 8/25, Train Loss: 0.0211, Test Loss: 0.0212\n",
      "Epoch 9/25, Train Loss: 0.0211, Test Loss: 0.0212\n",
      "Epoch 10/25, Train Loss: 0.0211, Test Loss: 0.0212\n",
      "Epoch 11/25, Train Loss: 0.0211, Test Loss: 0.0211\n",
      "Epoch 12/25, Train Loss: 0.0211, Test Loss: 0.0211\n",
      "Epoch 13/25, Train Loss: 0.0211, Test Loss: 0.0211\n",
      "Epoch 14/25, Train Loss: 0.0210, Test Loss: 0.0211\n",
      "Epoch 15/25, Train Loss: 0.0210, Test Loss: 0.0210\n",
      "Epoch 16/25, Train Loss: 0.0210, Test Loss: 0.0210\n",
      "Epoch 17/25, Train Loss: 0.0209, Test Loss: 0.0209\n",
      "Epoch 18/25, Train Loss: 0.0207, Test Loss: 0.0207\n",
      "Epoch 19/25, Train Loss: 0.0206, Test Loss: 0.0205\n",
      "Epoch 20/25, Train Loss: 0.0202, Test Loss: 0.0201\n",
      "Epoch 21/25, Train Loss: 0.0197, Test Loss: 0.0197\n",
      "Epoch 22/25, Train Loss: 0.0192, Test Loss: 0.0193\n",
      "Epoch 23/25, Train Loss: 0.0188, Test Loss: 0.0189\n",
      "Epoch 24/25, Train Loss: 0.0182, Test Loss: 0.0184\n",
      "Epoch 25/25, Train Loss: 0.0176, Test Loss: 0.0179\n"
     ]
    }
   ],
   "execution_count": 153
  },
  {
   "metadata": {},
   "cell_type": "markdown",
   "source": "В данном случае мы видим, что Train Loss и Test Loss практически не отличаются, что свидетельствует о том, что модель достигла оптимальной производительности.",
   "id": "5a09e78e6371e277"
  },
  {
   "metadata": {
    "ExecuteTime": {
     "end_time": "2024-05-28T15:57:27.634215Z",
     "start_time": "2024-05-28T15:57:25.522427Z"
    }
   },
   "cell_type": "code",
   "source": [
    "epochs = range(1, num_epochs + 1)\n",
    "\n",
    "plt.plot(epochs, train_losses, label='Train Loss') \n",
    "plt.plot(epochs, test_losses, label='Test Loss') \n",
    "plt.xlabel('Epoch') \n",
    "plt.ylabel('Loss') \n",
    "plt.title('Learning Curve') \n",
    "plt.legend() \n",
    "plt.show()"
   ],
   "id": "794d7ecd13bda5d8",
   "outputs": [
    {
     "data": {
      "text/plain": [
       "<Figure size 640x480 with 1 Axes>"
      ],
      "image/png": "[encoded data removed]"
     },
     "metadata": {},
     "output_type": "display_data"
    }
   ],
   "execution_count": 154
  },
  {
   "metadata": {},
   "cell_type": "markdown",
   "source": "# 6. Метрики mae",
   "id": "1b167aed4af910d3"
  },
  {
   "metadata": {
    "ExecuteTime": {
     "end_time": "2024-05-28T15:59:04.349041Z",
     "start_time": "2024-05-28T15:59:04.341001Z"
    }
   },
   "cell_type": "code",
   "source": "from sklearn.metrics import mean_absolute_error",
   "id": "2657eb2ceca82d9f",
   "outputs": [],
   "execution_count": 155
  },
  {
   "metadata": {},
   "cell_type": "markdown",
   "source": "## Однослойная нейросеть",
   "id": "442bd6032afe95d3"
  },
  {
   "metadata": {
    "ExecuteTime": {
     "end_time": "2024-05-28T15:59:22.160880Z",
     "start_time": "2024-05-28T15:59:21.579923Z"
    }
   },
   "cell_type": "code",
   "source": [
    "train_predictions = []\n",
    "train_targets = []\n",
    "\n",
    "for inputs, targets in train_loader:\n",
    "    predictions = first_model(inputs).detach().numpy()\n",
    "    train_predictions.extend(predictions)\n",
    "\n",
    "    train_targets.extend(targets.numpy())\n",
    "\n",
    "train_mae = mean_absolute_error(train_targets, train_predictions)\n",
    "print(\"Train test \\n MAE:\", train_mae)"
   ],
   "id": "123a424fc9a19458",
   "outputs": [
    {
     "name": "stderr",
     "output_type": "stream",
     "text": [
      "C:\\Users\\Takur\\AppData\\Local\\Temp\\ipykernel_10960\\2088720507.py:11: FutureWarning: Series.__getitem__ treating keys as positions is deprecated. In a future version, integer keys will always be treated as labels (consistent with DataFrame behavior). To access a value by position, use `ser.iloc[pos]`\n",
      "  y = torch.tensor(self.targets.iloc[index], dtype=torch.float32)\n"
     ]
    },
    {
     "name": "stdout",
     "output_type": "stream",
     "text": [
      "Train test \n",
      " MAE: 0.1268021\n"
     ]
    }
   ],
   "execution_count": 156
  },
  {
   "metadata": {
    "ExecuteTime": {
     "end_time": "2024-05-28T15:59:32.700752Z",
     "start_time": "2024-05-28T15:59:32.564104Z"
    }
   },
   "cell_type": "code",
   "source": [
    "test_predictions = []\n",
    "test_targets = []\n",
    "\n",
    "for inputs, targets in test_loader:\n",
    "    predictions = first_model(inputs).detach().numpy()\n",
    "    test_predictions.extend(predictions)\n",
    "    \n",
    "    test_targets.extend(targets.numpy())\n",
    "\n",
    "test_mae = mean_absolute_error(test_targets, test_predictions)\n",
    "print(\"Test test \\n MAE:\", test_mae)"
   ],
   "id": "d0ab2fcf5b49d847",
   "outputs": [
    {
     "name": "stdout",
     "output_type": "stream",
     "text": [
      "Test test \n",
      " MAE: 0.13106279\n"
     ]
    },
    {
     "name": "stderr",
     "output_type": "stream",
     "text": [
      "C:\\Users\\Takur\\AppData\\Local\\Temp\\ipykernel_10960\\2088720507.py:11: FutureWarning: Series.__getitem__ treating keys as positions is deprecated. In a future version, integer keys will always be treated as labels (consistent with DataFrame behavior). To access a value by position, use `ser.iloc[pos]`\n",
      "  y = torch.tensor(self.targets.iloc[index], dtype=torch.float32)\n"
     ]
    }
   ],
   "execution_count": 157
  },
  {
   "metadata": {},
   "cell_type": "markdown",
   "source": "В результате для тренировочной выборки была получена метрика mae, равная 0.126. Иэ этого следует, что предсказанные значения близки к истинным значениям. Кроме того для тестовой выборки значение метрики также недалеки от нуля, что указывает на то, что модель хорошо обучается на новых данных. Разница между тренировочным и тестовым MAE практически отсутствует.",
   "id": "aecc6b1e429255c0"
  },
  {
   "metadata": {},
   "cell_type": "markdown",
   "source": "## Нейросеть с одним скрытым слоем",
   "id": "b544fdbd65bbf3bf"
  },
  {
   "metadata": {
    "ExecuteTime": {
     "end_time": "2024-05-28T16:01:43.203398Z",
     "start_time": "2024-05-28T16:01:42.809636Z"
    }
   },
   "cell_type": "code",
   "source": [
    "train_predictions = []\n",
    "train_targets = []\n",
    "\n",
    "for inputs, targets in train_loader:\n",
    "    predictions = second_model(inputs).detach().numpy()\n",
    "    train_predictions.extend(predictions)\n",
    "\n",
    "    train_targets.extend(targets.numpy())\n",
    "\n",
    "train_mae = mean_absolute_error(train_targets, train_predictions)\n",
    "print(\"Train test \\n MAE:\", train_mae)"
   ],
   "id": "4d4e2bfa2aef4264",
   "outputs": [
    {
     "name": "stderr",
     "output_type": "stream",
     "text": [
      "C:\\Users\\Takur\\AppData\\Local\\Temp\\ipykernel_10960\\2088720507.py:11: FutureWarning: Series.__getitem__ treating keys as positions is deprecated. In a future version, integer keys will always be treated as labels (consistent with DataFrame behavior). To access a value by position, use `ser.iloc[pos]`\n",
      "  y = torch.tensor(self.targets.iloc[index], dtype=torch.float32)\n"
     ]
    },
    {
     "name": "stdout",
     "output_type": "stream",
     "text": [
      "Train test \n",
      " MAE: 0.088798776\n"
     ]
    }
   ],
   "execution_count": 158
  },
  {
   "metadata": {
    "ExecuteTime": {
     "end_time": "2024-05-28T16:01:50.537676Z",
     "start_time": "2024-05-28T16:01:50.416330Z"
    }
   },
   "cell_type": "code",
   "source": [
    "test_predictions = []\n",
    "test_targets = []\n",
    "\n",
    "for inputs, targets in test_loader:\n",
    "    predictions = second_model(inputs).detach().numpy()\n",
    "    test_predictions.extend(predictions)\n",
    "    \n",
    "    test_targets.extend(targets.numpy())\n",
    "\n",
    "test_mae = mean_absolute_error(test_targets, test_predictions)\n",
    "print(\"Test test \\n MAE:\", test_mae)"
   ],
   "id": "c9fc21dae11fc347",
   "outputs": [
    {
     "name": "stdout",
     "output_type": "stream",
     "text": [
      "Test test \n",
      " MAE: 0.095534585\n"
     ]
    },
    {
     "name": "stderr",
     "output_type": "stream",
     "text": [
      "C:\\Users\\Takur\\AppData\\Local\\Temp\\ipykernel_10960\\2088720507.py:11: FutureWarning: Series.__getitem__ treating keys as positions is deprecated. In a future version, integer keys will always be treated as labels (consistent with DataFrame behavior). To access a value by position, use `ser.iloc[pos]`\n",
      "  y = torch.tensor(self.targets.iloc[index], dtype=torch.float32)\n"
     ]
    }
   ],
   "execution_count": 159
  },
  {
   "metadata": {},
   "cell_type": "markdown",
   "source": "Для тренировочной выборки средняя абсолютная ошибка равна 0.08. Иэ этого следует, что предсказанные значения близки к истинным значениям. В целом MAE для тренировочного набора близка к MAE для тестового наборов данных, что может свидетельствовать о том, что модель обобщает данные хорошо.",
   "id": "ad24076fd40ddf34"
  },
  {
   "metadata": {},
   "cell_type": "markdown",
   "source": "## Нейросеть с тремя скрытыми слоями",
   "id": "93d2b48674559990"
  },
  {
   "metadata": {
    "ExecuteTime": {
     "end_time": "2024-05-28T16:05:31.012937Z",
     "start_time": "2024-05-28T16:05:30.459256Z"
    }
   },
   "cell_type": "code",
   "source": [
    "train_predictions = []\n",
    "train_targets = []\n",
    "\n",
    "for inputs, targets in train_loader:\n",
    "    predictions = third_model(inputs).detach().numpy()\n",
    "    train_predictions.extend(predictions)\n",
    "\n",
    "    train_targets.extend(targets.numpy())\n",
    "\n",
    "train_mae = mean_absolute_error(train_targets, train_predictions)\n",
    "print(\"Train test \\n MAE:\", train_mae)"
   ],
   "id": "e9daab27c1b67753",
   "outputs": [
    {
     "name": "stderr",
     "output_type": "stream",
     "text": [
      "C:\\Users\\Takur\\AppData\\Local\\Temp\\ipykernel_10960\\2088720507.py:11: FutureWarning: Series.__getitem__ treating keys as positions is deprecated. In a future version, integer keys will always be treated as labels (consistent with DataFrame behavior). To access a value by position, use `ser.iloc[pos]`\n",
      "  y = torch.tensor(self.targets.iloc[index], dtype=torch.float32)\n"
     ]
    },
    {
     "name": "stdout",
     "output_type": "stream",
     "text": [
      "Train test \n",
      " MAE: 0.10777991\n"
     ]
    }
   ],
   "execution_count": 160
  },
  {
   "metadata": {
    "ExecuteTime": {
     "end_time": "2024-05-28T16:05:38.445483Z",
     "start_time": "2024-05-28T16:05:38.338171Z"
    }
   },
   "cell_type": "code",
   "source": [
    "test_predictions = []\n",
    "test_targets = []\n",
    "\n",
    "for inputs, targets in test_loader:\n",
    "    predictions = third_model(inputs).detach().numpy()\n",
    "    test_predictions.extend(predictions)\n",
    "\n",
    "    test_targets.extend(targets.numpy())\n",
    "\n",
    "test_mae = mean_absolute_error(test_targets, test_predictions)\n",
    "print(\"Test test \\n MAE:\", test_mae)"
   ],
   "id": "87e9e9982e68d8e9",
   "outputs": [
    {
     "name": "stdout",
     "output_type": "stream",
     "text": [
      "Test test \n",
      " MAE: 0.11020483\n"
     ]
    },
    {
     "name": "stderr",
     "output_type": "stream",
     "text": [
      "C:\\Users\\Takur\\AppData\\Local\\Temp\\ipykernel_10960\\2088720507.py:11: FutureWarning: Series.__getitem__ treating keys as positions is deprecated. In a future version, integer keys will always be treated as labels (consistent with DataFrame behavior). To access a value by position, use `ser.iloc[pos]`\n",
      "  y = torch.tensor(self.targets.iloc[index], dtype=torch.float32)\n"
     ]
    }
   ],
   "execution_count": 161
  },
  {
   "metadata": {},
   "cell_type": "markdown",
   "source": "Результаты метрик достаточно близки к друг другу, что свидетельствует о том, что модель в целом хорошо справилась с обучением.",
   "id": "79418c5cc578f65"
  }
 ],
 "metadata": {
  "kernelspec": {
   "display_name": "Python 3 (ipykernel)",
   "language": "python",
   "name": "python3"
  },
  "language_info": {
   "codemirror_mode": {
    "name": "ipython",
    "version": 3
   },
   "file_extension": ".py",
   "mimetype": "text/x-python",
   "name": "python",
   "nbconvert_exporter": "python",
   "pygments_lexer": "ipython3",
   "version": "3.9.6"
  }
 },
 "nbformat": 4,
 "nbformat_minor": 5
}
